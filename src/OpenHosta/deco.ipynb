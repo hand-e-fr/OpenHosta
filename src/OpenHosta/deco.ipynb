{
 "cells": [
  {
   "cell_type": "code",
   "execution_count": 1,
   "metadata": {},
   "outputs": [
    {
     "name": "stdout",
     "output_type": "stream",
     "text": [
      "Calling function: openhosta_function_decorator\n",
      "caller: <frame at 0x0000013FA710B440, file 'C:\\\\Users\\\\Merlin\\\\AppData\\\\Local\\\\Temp\\\\ipykernel_22976\\\\2021800633.py', line 9, code wrapper>\n"
     ]
    },
    {
     "ename": "TypeError",
     "evalue": "got an unexpected keyword argument 'args'",
     "output_type": "error",
     "traceback": [
      "\u001b[1;31m---------------------------------------------------------------------------\u001b[0m",
      "\u001b[1;31mTypeError\u001b[0m                                 Traceback (most recent call last)",
      "Cell \u001b[1;32mIn[1], line 31\u001b[0m\n\u001b[0;32m     27\u001b[0m     \u001b[38;5;28;01mreturn\u001b[39;00m emulate()\n\u001b[0;32m     30\u001b[0m \u001b[38;5;28;01mif\u001b[39;00m \u001b[38;5;18m__name__\u001b[39m \u001b[38;5;241m==\u001b[39m \u001b[38;5;124m'\u001b[39m\u001b[38;5;124m__main__\u001b[39m\u001b[38;5;124m'\u001b[39m:\n\u001b[1;32m---> 31\u001b[0m     \u001b[38;5;28mprint\u001b[39m(\u001b[43mopenhosta_function_decorator\u001b[49m\u001b[43m(\u001b[49m\u001b[38;5;124;43m\"\u001b[39;49m\u001b[38;5;124;43mHello everyone it\u001b[39;49m\u001b[38;5;124;43m'\u001b[39;49m\u001b[38;5;124;43ms me, the programmer\u001b[39;49m\u001b[38;5;124;43m\"\u001b[39;49m\u001b[43m)\u001b[49m)\n\u001b[0;32m     32\u001b[0m     \u001b[38;5;28mprint\u001b[39m(openhosta_function_no_decorator(\u001b[38;5;124m\"\u001b[39m\u001b[38;5;124mHello everyone it\u001b[39m\u001b[38;5;124m'\u001b[39m\u001b[38;5;124ms me, the programmer\u001b[39m\u001b[38;5;124m\"\u001b[39m))\n",
      "Cell \u001b[1;32mIn[1], line 9\u001b[0m, in \u001b[0;36mprint_function_name_decorator.<locals>.wrapper\u001b[1;34m(*args, **kwargs)\u001b[0m\n\u001b[0;32m      7\u001b[0m \u001b[38;5;28;01mdef\u001b[39;00m \u001b[38;5;21mwrapper\u001b[39m(\u001b[38;5;241m*\u001b[39margs, \u001b[38;5;241m*\u001b[39m\u001b[38;5;241m*\u001b[39mkwargs):\n\u001b[0;32m      8\u001b[0m     \u001b[38;5;28mprint\u001b[39m(\u001b[38;5;124mf\u001b[39m\u001b[38;5;124m\"\u001b[39m\u001b[38;5;124mCalling function: \u001b[39m\u001b[38;5;132;01m{\u001b[39;00mfunc\u001b[38;5;241m.\u001b[39m\u001b[38;5;18m__name__\u001b[39m\u001b[38;5;132;01m}\u001b[39;00m\u001b[38;5;124m\"\u001b[39m)\n\u001b[1;32m----> 9\u001b[0m     \u001b[38;5;28;01mreturn\u001b[39;00m \u001b[43mfunc\u001b[49m\u001b[43m(\u001b[49m\u001b[38;5;241;43m*\u001b[39;49m\u001b[43margs\u001b[49m\u001b[43m,\u001b[49m\u001b[43m \u001b[49m\u001b[38;5;241;43m*\u001b[39;49m\u001b[38;5;241;43m*\u001b[39;49m\u001b[43mkwargs\u001b[49m\u001b[43m)\u001b[49m\n",
      "Cell \u001b[1;32mIn[1], line 21\u001b[0m, in \u001b[0;36mopenhosta_function_decorator\u001b[1;34m(input_string)\u001b[0m\n\u001b[0;32m     16\u001b[0m \u001b[38;5;129m@print_function_name_decorator\u001b[39m\n\u001b[0;32m     17\u001b[0m \u001b[38;5;28;01mdef\u001b[39;00m \u001b[38;5;21mopenhosta_function_decorator\u001b[39m(input_string: \u001b[38;5;28mstr\u001b[39m) \u001b[38;5;241m-\u001b[39m\u001b[38;5;241m>\u001b[39m \u001b[38;5;28mstr\u001b[39m:\n\u001b[0;32m     18\u001b[0m \u001b[38;5;250m    \u001b[39m\u001b[38;5;124;03m\"\"\"\u001b[39;00m\n\u001b[0;32m     19\u001b[0m \u001b[38;5;124;03m    this function reverse the string\u001b[39;00m\n\u001b[0;32m     20\u001b[0m \u001b[38;5;124;03m    \"\"\"\u001b[39;00m\n\u001b[1;32m---> 21\u001b[0m     \u001b[38;5;28;01mreturn\u001b[39;00m \u001b[43memulate\u001b[49m\u001b[43m(\u001b[49m\u001b[43m)\u001b[49m\n",
      "File \u001b[1;32mc:\\Users\\Merlin\\Desktop\\STAGE\\OpenHosta\\src\\OpenHosta\\exec.py:22\u001b[0m, in \u001b[0;36mHostaInjector.__call__\u001b[1;34m(self, *args, **kwargs)\u001b[0m\n\u001b[0;32m     20\u001b[0m \u001b[38;5;28mprint\u001b[39m(\u001b[38;5;124mf\u001b[39m\u001b[38;5;124m\"\u001b[39m\u001b[38;5;124mcaller: \u001b[39m\u001b[38;5;132;01m{\u001b[39;00mcaller\u001b[38;5;132;01m}\u001b[39;00m\u001b[38;5;124m\"\u001b[39m)\n\u001b[0;32m     21\u001b[0m infos[\u001b[38;5;124m\"\u001b[39m\u001b[38;5;124mdef\u001b[39m\u001b[38;5;124m\"\u001b[39m], func_prot \u001b[38;5;241m=\u001b[39m \u001b[38;5;28mself\u001b[39m\u001b[38;5;241m.\u001b[39m_get_functionDef(func_obj)\n\u001b[1;32m---> 22\u001b[0m infos[\u001b[38;5;124m\"\u001b[39m\u001b[38;5;124mcall\u001b[39m\u001b[38;5;124m\"\u001b[39m] \u001b[38;5;241m=\u001b[39m \u001b[38;5;28;43mself\u001b[39;49m\u001b[38;5;241;43m.\u001b[39;49m\u001b[43m_get_functionCall\u001b[49m\u001b[43m(\u001b[49m\u001b[43mfunc_obj\u001b[49m\u001b[43m,\u001b[49m\u001b[43m \u001b[49m\u001b[43mcaller\u001b[49m\u001b[43m)\u001b[49m\n\u001b[0;32m     23\u001b[0m infos[\u001b[38;5;124m\"\u001b[39m\u001b[38;5;124mreturn_type\u001b[39m\u001b[38;5;124m\"\u001b[39m] \u001b[38;5;241m=\u001b[39m \u001b[38;5;28mself\u001b[39m\u001b[38;5;241m.\u001b[39m_get_functionReturnType(func_obj)\n\u001b[0;32m     25\u001b[0m \u001b[38;5;28mself\u001b[39m\u001b[38;5;241m.\u001b[39m_attach_attributs(func_obj, func_prot)\n",
      "File \u001b[1;32mc:\\Users\\Merlin\\Desktop\\STAGE\\OpenHosta\\src\\OpenHosta\\exec.py:77\u001b[0m, in \u001b[0;36mHostaInjector._get_functionCall\u001b[1;34m(self, func, caller)\u001b[0m\n\u001b[0;32m     75\u001b[0m sig \u001b[38;5;241m=\u001b[39m inspect\u001b[38;5;241m.\u001b[39msignature(func)\n\u001b[0;32m     76\u001b[0m bound_args \u001b[38;5;241m=\u001b[39m {}\n\u001b[1;32m---> 77\u001b[0m bound_args \u001b[38;5;241m=\u001b[39m \u001b[43msig\u001b[49m\u001b[38;5;241;43m.\u001b[39;49m\u001b[43mbind_partial\u001b[49m\u001b[43m(\u001b[49m\u001b[38;5;241;43m*\u001b[39;49m\u001b[38;5;241;43m*\u001b[39;49m\u001b[43mvalues\u001b[49m\u001b[43m)\u001b[49m\n\u001b[0;32m     78\u001b[0m bound_args\u001b[38;5;241m.\u001b[39mapply_defaults()\n\u001b[0;32m     80\u001b[0m args_str \u001b[38;5;241m=\u001b[39m \u001b[38;5;124m\"\u001b[39m\u001b[38;5;124m, \u001b[39m\u001b[38;5;124m\"\u001b[39m\u001b[38;5;241m.\u001b[39mjoin(\n\u001b[0;32m     81\u001b[0m     \u001b[38;5;124mf\u001b[39m\u001b[38;5;124m\"\u001b[39m\u001b[38;5;132;01m{\u001b[39;00mname\u001b[38;5;132;01m}\u001b[39;00m\u001b[38;5;124m=\u001b[39m\u001b[38;5;132;01m{\u001b[39;00mvalue\u001b[38;5;132;01m!r}\u001b[39;00m\u001b[38;5;124m\"\u001b[39m \u001b[38;5;28;01mif\u001b[39;00m name \u001b[38;5;129;01min\u001b[39;00m bound_args\u001b[38;5;241m.\u001b[39mkwargs \u001b[38;5;28;01melse\u001b[39;00m \u001b[38;5;124mf\u001b[39m\u001b[38;5;124m\"\u001b[39m\u001b[38;5;132;01m{\u001b[39;00mvalue\u001b[38;5;132;01m!r}\u001b[39;00m\u001b[38;5;124m\"\u001b[39m\n\u001b[0;32m     82\u001b[0m     \u001b[38;5;28;01mfor\u001b[39;00m name, value \u001b[38;5;129;01min\u001b[39;00m bound_args\u001b[38;5;241m.\u001b[39marguments\u001b[38;5;241m.\u001b[39mitems()\n\u001b[0;32m     83\u001b[0m )\n",
      "File \u001b[1;32mc:\\Python312\\Lib\\inspect.py:3280\u001b[0m, in \u001b[0;36mSignature.bind_partial\u001b[1;34m(self, *args, **kwargs)\u001b[0m\n\u001b[0;32m   3275\u001b[0m \u001b[38;5;28;01mdef\u001b[39;00m \u001b[38;5;21mbind_partial\u001b[39m(\u001b[38;5;28mself\u001b[39m, \u001b[38;5;241m/\u001b[39m, \u001b[38;5;241m*\u001b[39margs, \u001b[38;5;241m*\u001b[39m\u001b[38;5;241m*\u001b[39mkwargs):\n\u001b[0;32m   3276\u001b[0m \u001b[38;5;250m    \u001b[39m\u001b[38;5;124;03m\"\"\"Get a BoundArguments object, that partially maps the\u001b[39;00m\n\u001b[0;32m   3277\u001b[0m \u001b[38;5;124;03m    passed `args` and `kwargs` to the function's signature.\u001b[39;00m\n\u001b[0;32m   3278\u001b[0m \u001b[38;5;124;03m    Raises `TypeError` if the passed arguments can not be bound.\u001b[39;00m\n\u001b[0;32m   3279\u001b[0m \u001b[38;5;124;03m    \"\"\"\u001b[39;00m\n\u001b[1;32m-> 3280\u001b[0m     \u001b[38;5;28;01mreturn\u001b[39;00m \u001b[38;5;28;43mself\u001b[39;49m\u001b[38;5;241;43m.\u001b[39;49m\u001b[43m_bind\u001b[49m\u001b[43m(\u001b[49m\u001b[43margs\u001b[49m\u001b[43m,\u001b[49m\u001b[43m \u001b[49m\u001b[43mkwargs\u001b[49m\u001b[43m,\u001b[49m\u001b[43m \u001b[49m\u001b[43mpartial\u001b[49m\u001b[38;5;241;43m=\u001b[39;49m\u001b[38;5;28;43;01mTrue\u001b[39;49;00m\u001b[43m)\u001b[49m\n",
      "File \u001b[1;32mc:\\Python312\\Lib\\inspect.py:3262\u001b[0m, in \u001b[0;36mSignature._bind\u001b[1;34m(self, args, kwargs, partial)\u001b[0m\n\u001b[0;32m   3252\u001b[0m         \u001b[38;5;28;01mraise\u001b[39;00m \u001b[38;5;167;01mTypeError\u001b[39;00m(\n\u001b[0;32m   3253\u001b[0m             \u001b[38;5;124m'\u001b[39m\u001b[38;5;124mgot some positional-only arguments passed as \u001b[39m\u001b[38;5;124m'\u001b[39m\n\u001b[0;32m   3254\u001b[0m             \u001b[38;5;124m'\u001b[39m\u001b[38;5;124mkeyword arguments: \u001b[39m\u001b[38;5;132;01m{arg!r}\u001b[39;00m\u001b[38;5;124m'\u001b[39m\u001b[38;5;241m.\u001b[39mformat(\n\u001b[1;32m   (...)\u001b[0m\n\u001b[0;32m   3259\u001b[0m             ),\n\u001b[0;32m   3260\u001b[0m         )\n\u001b[0;32m   3261\u001b[0m     \u001b[38;5;28;01melse\u001b[39;00m:\n\u001b[1;32m-> 3262\u001b[0m         \u001b[38;5;28;01mraise\u001b[39;00m \u001b[38;5;167;01mTypeError\u001b[39;00m(\n\u001b[0;32m   3263\u001b[0m             \u001b[38;5;124m'\u001b[39m\u001b[38;5;124mgot an unexpected keyword argument \u001b[39m\u001b[38;5;132;01m{arg!r}\u001b[39;00m\u001b[38;5;124m'\u001b[39m\u001b[38;5;241m.\u001b[39mformat(\n\u001b[0;32m   3264\u001b[0m                 arg\u001b[38;5;241m=\u001b[39m\u001b[38;5;28mnext\u001b[39m(\u001b[38;5;28miter\u001b[39m(kwargs))))\n\u001b[0;32m   3266\u001b[0m \u001b[38;5;28;01mreturn\u001b[39;00m \u001b[38;5;28mself\u001b[39m\u001b[38;5;241m.\u001b[39m_bound_arguments_cls(\u001b[38;5;28mself\u001b[39m, arguments)\n",
      "\u001b[1;31mTypeError\u001b[0m: got an unexpected keyword argument 'args'"
     ]
    }
   ],
   "source": [
    "from OpenHosta import *\n",
    "\n",
    "config.set_default_apiKey(\"\")\n",
    "\n",
    "\n",
    "def print_function_name_decorator(func):\n",
    "    def wrapper(*args, **kwargs):\n",
    "        print(f\"Calling function: {func.__name__}\")\n",
    "        return func(*args, **kwargs)\n",
    "    return wrapper\n",
    "\n",
    "\n",
    "\n",
    "\n",
    "\n",
    "@print_function_name_decorator\n",
    "def openhosta_function_decorator(input_string: str) -> str:\n",
    "    \"\"\"\n",
    "    this function reverse the string\n",
    "    \"\"\"\n",
    "    return emulate()\n",
    "\n",
    "def openhosta_function_no_decorator(input_string: str) -> str:\n",
    "    \"\"\"\n",
    "    this function reverse the string\n",
    "    \"\"\"\n",
    "    return emulate()\n",
    "\n",
    "\n",
    "if __name__ == '__main__':\n",
    "    print(openhosta_function_decorator(\"Hello everyone it's me, the programmer\"))\n",
    "    print(openhosta_function_no_decorator(\"Hello everyone it's me, the programmer\"))"
   ]
  },
  {
   "cell_type": "code",
   "execution_count": 69,
   "metadata": {},
   "outputs": [],
   "source": [
    "import inspect\n",
    "import sys\n",
    "from typing import Callable\n",
    "\n",
    "def _extend_scope():\n",
    "    func:Callable\n",
    "    \n",
    "    try:\n",
    "        current = inspect.currentframe()\n",
    "        caller = current.f_back.f_back\n",
    "        code = current.f_back.f_code\n",
    "        for obj in caller.f_locals.values():\n",
    "            if hasattr(obj, \"__code__\"):\n",
    "                if obj.__code__ == code:\n",
    "                    func = obj\n",
    "                    \n",
    "        if func is None or not callable(func):\n",
    "            raise Exception(\"Larger scope isn't a callable or scope can't be extended.\")\n",
    "    except Exception as e:\n",
    "        sys.stderr.write(f\"[FRAME_ERROR]: {e}\")\n",
    "        func = None\n",
    "    return func\n",
    "        #     return None\n",
    "        #     if func is None:\n",
    "        #         raise Exception(\"Scope can't be extend.\")\n",
    "        #     if not callable(func):\n",
    "        #         raise Exception(\"Larger scope isn't a callable.\")\n",
    "        # except Exception as e:\n",
    "        #     sys.stderr.write(f\"[FRAME_ERROR]: {e}\")\n",
    "        #     return None\n",
    "        # return func"
   ]
  },
  {
   "cell_type": "code",
   "execution_count": 68,
   "metadata": {},
   "outputs": [
    {
     "name": "stdout",
     "output_type": "stream",
     "text": [
      "func obj: <function decorator.<locals>.wrapper at 0x000001931F508FE0>\n",
      "decorator of wrapper\n",
      "decorator of test_func\n",
      "func_call: <function test_func at 0x000001931F5091C0>\n"
     ]
    }
   ],
   "source": [
    "def decorator(func):\n",
    "    def wrapper(*args, **kwargs):\n",
    "        print(f\"decorator of {func.__name__}\")\n",
    "        res = func(*args, **kwargs)\n",
    "        return res\n",
    "    return wrapper\n",
    "\n",
    "@decorator\n",
    "@decorator\n",
    "def test_func():\n",
    "    \"\"\" This is my docstring \"\"\"\n",
    "    \n",
    "    return _extend_scope()\n",
    "\n",
    "print(f\"func obj: {test_func}\")\n",
    "print(f\"func_call: {test_func()}\")"
   ]
  },
  {
   "cell_type": "code",
   "execution_count": null,
   "metadata": {},
   "outputs": [],
   "source": []
  },
  {
   "cell_type": "code",
   "execution_count": 24,
   "metadata": {},
   "outputs": [
    {
     "name": "stdout",
     "output_type": "stream",
     "text": [
      "func obj: <function test_func at 0x000001931F33C860>\n",
      "<frame at 0x000001931F33CB80, file 'C:\\\\Users\\\\Merlin\\\\AppData\\\\Local\\\\Temp\\\\ipykernel_23792\\\\2604651302.py', line 10, code test_func> test_func <function test_func at 0x000001931F33C860>\n",
      "func_call: <function test_func at 0x000001931F33C860>\n"
     ]
    }
   ],
   "source": [
    "def decorator(func):\n",
    "    def wrapper(*args, **kwargs):\n",
    "        print(f\"decorator of {func.__name__}\")\n",
    "        res = func(*args, **kwargs)\n",
    "        return res\n",
    "    return wrapper\n",
    "\n",
    "def test_func():\n",
    "    \"\"\" This is my docstring \"\"\"\n",
    "    return _extend_scope()\n",
    "\n",
    "print(f\"func obj: {test_func}\")\n",
    "print(f\"func_call: {test_func()}\")"
   ]
  },
  {
   "cell_type": "code",
   "execution_count": null,
   "metadata": {},
   "outputs": [],
   "source": []
  }
 ],
 "metadata": {
  "kernelspec": {
   "display_name": "Python 3",
   "language": "python",
   "name": "python3"
  },
  "language_info": {
   "codemirror_mode": {
    "name": "ipython",
    "version": 3
   },
   "file_extension": ".py",
   "mimetype": "text/x-python",
   "name": "python",
   "nbconvert_exporter": "python",
   "pygments_lexer": "ipython3",
   "version": "3.12.5"
  }
 },
 "nbformat": 4,
 "nbformat_minor": 2
}
