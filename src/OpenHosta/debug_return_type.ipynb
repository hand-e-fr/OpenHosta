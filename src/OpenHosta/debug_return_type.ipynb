{
 "cells": [
  {
   "cell_type": "code",
   "execution_count": 1,
   "metadata": {},
   "outputs": [],
   "source": [
    "from OpenHosta import *\n",
    "\n",
    "config.set_default_apiKey(\"sk-proj-T7o4z8S4q9fnBNTdSq4iT3BlbkFJ82uVDLRaIAkx1sjwyE5C\")"
   ]
  },
  {
   "cell_type": "code",
   "execution_count": 2,
   "metadata": {},
   "outputs": [
    {
     "name": "stdout",
     "output_type": "stream",
     "text": [
      "\u001b[94m\u001b[1mExecution time of _exec_emulate: 0.90s\u001b[0m\n"
     ]
    }
   ],
   "source": [
    "def count_letter(a:str) -> int:\n",
    "    \"\"\"\n",
    "    This function count the nubmer of characters in a string\n",
    "    \"\"\"  \n",
    "    return emulate()\n",
    "\n",
    "int_test = count_letter(\"Hello World!\")"
   ]
  },
  {
   "cell_type": "code",
   "execution_count": 3,
   "metadata": {},
   "outputs": [
    {
     "name": "stdout",
     "output_type": "stream",
     "text": [
      "<class 'int'>\n",
      "12\n"
     ]
    }
   ],
   "source": [
    "print(type(int_test))\n",
    "print(int_test)"
   ]
  },
  {
   "cell_type": "code",
   "execution_count": 4,
   "metadata": {},
   "outputs": [
    {
     "name": "stdout",
     "output_type": "stream",
     "text": [
      "\u001b[94m\u001b[1mExecution time of _exec_emulate: 0.77s\u001b[0m\n"
     ]
    }
   ],
   "source": [
    "def reverse_str_ia(a:str)->str:\n",
    "    \"\"\"\n",
    "    This function reverse a string\n",
    "    \"\"\"\n",
    "    return emulate()\n",
    "\n",
    "str_test = reverse_str_ia(\"Hello World!\")"
   ]
  },
  {
   "cell_type": "code",
   "execution_count": 5,
   "metadata": {},
   "outputs": [
    {
     "name": "stdout",
     "output_type": "stream",
     "text": [
      "<class 'str'>\n",
      "!dlroW olleH\n"
     ]
    }
   ],
   "source": [
    "print(type(str_test))\n",
    "print(str_test)"
   ]
  },
  {
   "cell_type": "code",
   "execution_count": 6,
   "metadata": {},
   "outputs": [
    {
     "name": "stdout",
     "output_type": "stream",
     "text": [
      "\u001b[94m\u001b[1mExecution time of _exec_emulate: 0.78s\u001b[0m\n"
     ]
    }
   ],
   "source": [
    "def add_two_values(a, b):\n",
    "    \"return a + b\"\n",
    "    return emulate()\n",
    "\n",
    "Any_test = add_two_values(1, 2)"
   ]
  },
  {
   "cell_type": "code",
   "execution_count": 7,
   "metadata": {},
   "outputs": [
    {
     "name": "stdout",
     "output_type": "stream",
     "text": [
      "<class 'int'>\n",
      "3\n"
     ]
    }
   ],
   "source": [
    "print(type(Any_test))\n",
    "print(Any_test)"
   ]
  },
  {
   "cell_type": "code",
   "execution_count": 25,
   "metadata": {},
   "outputs": [
    {
     "name": "stdout",
     "output_type": "stream",
     "text": [
      "\u001b[94m\u001b[1mExecution time of _exec_emulate: 2.26s\u001b[0m\n"
     ]
    }
   ],
   "source": [
    "from pydantic import BaseModel\n",
    "\n",
    "class Test_return(BaseModel):\n",
    "    agess: int\n",
    "    birth_d3te: int\n",
    "    name: str\n",
    "\n",
    "def test_return(info : str) -> Test_return:\n",
    "    \"\"\"\n",
    "    This function return a the age and name of a person and also is birth date\n",
    "    \"\"\"\n",
    "    return emulate()\n",
    "\n",
    "pydantic_test = test_return(\"18 years old, born in 2003, name is John Mcarty\")"
   ]
  },
  {
   "cell_type": "code",
   "execution_count": 26,
   "metadata": {},
   "outputs": [
    {
     "name": "stdout",
     "output_type": "stream",
     "text": [
      "{'properties': {'agess': {'title': 'Agess', 'type': 'integer'}, 'birth_d3te': {'title': 'Birth D3Te', 'type': 'integer'}, 'name': {'title': 'Name', 'type': 'string'}}, 'required': ['agess', 'birth_d3te', 'name'], 'title': 'Test_return', 'type': 'object'}\n"
     ]
    }
   ],
   "source": [
    "print(pydantic_test)"
   ]
  },
  {
   "cell_type": "code",
   "execution_count": 22,
   "metadata": {},
   "outputs": [
    {
     "name": "stdout",
     "output_type": "stream",
     "text": [
      "\u001b[94m\u001b[1mExecution time of _exec_emulate: 5.10s\u001b[0m\n"
     ]
    }
   ],
   "source": [
    "# Exemple d'utilisation\n",
    "class Model3(BaseModel):\n",
    "    company: str\n",
    "    revenue: int\n",
    "    work_name: str\n",
    "\n",
    "class Model2(BaseModel):\n",
    "    family_name: int\n",
    "    name: str\n",
    "    sexe: int\n",
    "    work : Model3\n",
    "\n",
    "class Model1(BaseModel):\n",
    "    country: str\n",
    "    age: int\n",
    "    birth_date: int\n",
    "    person_info : Model2\n",
    "\n",
    "def imagine_a_person() -> Model1:\n",
    "    \"\"\"\n",
    "    This function return a person with some information that are given in the pydantic model\n",
    "    \"\"\"\n",
    "    return emulate()\n",
    "\n",
    "hard_pydantic_test = imagine_a_person()"
   ]
  },
  {
   "cell_type": "code",
   "execution_count": 23,
   "metadata": {},
   "outputs": [
    {
     "name": "stdout",
     "output_type": "stream",
     "text": [
      "<class 'dict'>\n",
      "{'$defs': {'Model2': {'properties': {'family_name': {'title': 'Family Name', 'type': 'integer'}, 'name': {'title': 'Name', 'type': 'string'}, 'sexe': {'title': 'Sexe', 'type': 'integer'}, 'work': {'$ref': '#/$defs/Model3'}}, 'required': ['family_name', 'name', 'sexe', 'work'], 'title': 'Model2', 'type': 'object'}, 'Model3': {'properties': {'company': {'title': 'Company', 'type': 'string'}, 'revenue': {'title': 'Revenue', 'type': 'integer'}, 'work_name': {'title': 'Work Name', 'type': 'string'}}, 'required': ['company', 'revenue', 'work_name'], 'title': 'Model3', 'type': 'object'}}, 'properties': {'country': {'title': 'Country', 'type': 'string'}, 'age': {'title': 'Age', 'type': 'integer'}, 'birth_date': {'title': 'Birth Date', 'type': 'integer'}, 'person_info': {'$ref': '#/$defs/Model2'}}, 'required': ['country', 'age', 'birth_date', 'person_info'], 'title': 'Model1', 'type': 'object'}\n"
     ]
    }
   ],
   "source": [
    "print(type(hard_pydantic_test))\n",
    "print(hard_pydantic_test)"
   ]
  },
  {
   "cell_type": "code",
   "execution_count": 24,
   "metadata": {},
   "outputs": [
    {
     "name": "stdout",
     "output_type": "stream",
     "text": [
      "\u001b[94m\u001b[1mExecution time of _exec_emulate: 0.78s\u001b[0m\n"
     ]
    }
   ],
   "source": [
    "from OpenHosta import thought\n",
    "\n",
    "thought(\"est un prénom masculin ?\")(\"Emmanuel\")"
   ]
  }
 ],
 "metadata": {
  "kernelspec": {
   "display_name": "Python 3",
   "language": "python",
   "name": "python3"
  },
  "language_info": {
   "codemirror_mode": {
    "name": "ipython",
    "version": 3
   },
   "file_extension": ".py",
   "mimetype": "text/x-python",
   "name": "python",
   "nbconvert_exporter": "python",
   "pygments_lexer": "ipython3",
   "version": "3.12.5"
  }
 },
 "nbformat": 4,
 "nbformat_minor": 2
}
