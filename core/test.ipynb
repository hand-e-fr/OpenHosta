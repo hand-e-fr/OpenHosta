{
 "cells": [
  {
   "cell_type": "code",
   "execution_count": 12,
   "metadata": {},
   "outputs": [],
   "source": [
    "from OpenHosta import emulator\n",
    "\n",
    "llm = emulator()"
   ]
  },
  {
   "cell_type": "code",
   "execution_count": 60,
   "metadata": {},
   "outputs": [],
   "source": [
    "class Game_tic_tac_toe:\n",
    "    def __init__(self):\n",
    "        pass\n",
    "\n",
    "    @llm.emulate\n",
    "    def find_next_move(self, intput):\n",
    "        '''This function will return the next move for the game\n",
    "        and return the same type of output as the input but with the next move.\n",
    "        you will find if you need to add an X or an 0 in the next move based on how many of them are in the input\n",
    "        if you have more X than 0 you will add an 0 else you will add an X\n",
    "        '''\n",
    "    @llm.emulate\n",
    "    def check_winner(self, input) -> int:\n",
    "        '''This function will check if there is a winner in the game\n",
    "        and return 1 if y win, 2 if you win and 0 if there is no winner\n",
    "        '''\n",
    "    \n",
    "    @llm.emulate\n",
    "    def create_a_board(self, intput):\n",
    "        '''\n",
    "        This function will create a board for the game.\n",
    "        You will be able to only create a board with 3x3 dimensions\n",
    "        and you need to return the board as bach like this example in base of the given intput:\n",
    "        \"X | 0 | X\n",
    "         ---------\n",
    "         0 |   | 0\n",
    "         ---------\n",
    "         0 | X | X\"\n",
    "        BEWARE: of the spaces between the characters\n",
    "        '''\n",
    "    \n",
    "    @llm.emulate\n",
    "    def parse_move_player(self, input, position):\n",
    "        '''\n",
    "        This function take in parameter an input and a positon,\n",
    "        the position is the position where the player want to play\n",
    "        the position is the position where the player want to play\n",
    "        so your goal is to return the input with the new move.\n",
    "        As like you need to add an extra X at the postion given in parameter if it's possible or not.\n",
    "        Like the problem can.\n",
    "        The moves are beetween 1 and 9 as the 1 correspond to the top left corner and 9 to the bottom right corner.\n",
    "        Return the input with the new move.\n",
    "        '''"
   ]
  },
  {
   "cell_type": "code",
   "execution_count": 61,
   "metadata": {},
   "outputs": [],
   "source": [
    "game = Game_tic_tac_toe()"
   ]
  },
  {
   "cell_type": "code",
   "execution_count": 62,
   "metadata": {},
   "outputs": [
    {
     "data": {
      "text/plain": [
       "[['X', ' 0', ' '], [' ', '0', ' '], [' ', ' X', ' ']]"
      ]
     },
     "execution_count": 62,
     "metadata": {},
     "output_type": "execute_result"
    }
   ],
   "source": [
    "x = game.find_next_move([['X', ' 0', ' '], [' ', ' ', ' '], [' ', ' X', ' ']])\n",
    "x"
   ]
  },
  {
   "cell_type": "code",
   "execution_count": 63,
   "metadata": {},
   "outputs": [
    {
     "data": {
      "text/plain": [
       "0"
      ]
     },
     "execution_count": 63,
     "metadata": {},
     "output_type": "execute_result"
    }
   ],
   "source": [
    "game.check_winner(x)"
   ]
  },
  {
   "cell_type": "code",
   "execution_count": 65,
   "metadata": {},
   "outputs": [
    {
     "name": "stdout",
     "output_type": "stream",
     "text": [
      "[['X', ' 0', ' '], [' ', '0', ' '], [' ', ' X', ' ']]\n",
      "X | 0 |  \n",
      "---------\n",
      " | 0 |  \n",
      "---------\n",
      " |  X | \n"
     ]
    }
   ],
   "source": [
    "output = game.create_a_board(x)\n",
    "print(x)\n",
    "print(output)"
   ]
  },
  {
   "cell_type": "code",
   "execution_count": 66,
   "metadata": {},
   "outputs": [
    {
     "data": {
      "text/plain": [
       "[['X', ' 0', ' '], [' ', '0', ' '], ['X', ' X', ' ']]"
      ]
     },
     "execution_count": 66,
     "metadata": {},
     "output_type": "execute_result"
    }
   ],
   "source": [
    "game.parse_move_player(x, 7)"
   ]
  }
 ],
 "metadata": {
  "kernelspec": {
   "display_name": "Python 3",
   "language": "python",
   "name": "python3"
  },
  "language_info": {
   "codemirror_mode": {
    "name": "ipython",
    "version": 3
   },
   "file_extension": ".py",
   "mimetype": "text/x-python",
   "name": "python",
   "nbconvert_exporter": "python",
   "pygments_lexer": "ipython3",
   "version": "3.12.3"
  }
 },
 "nbformat": 4,
 "nbformat_minor": 2
}
