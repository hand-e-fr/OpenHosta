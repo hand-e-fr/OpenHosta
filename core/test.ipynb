{
 "cells": [
  {
   "cell_type": "code",
   "execution_count": 50,
   "metadata": {},
   "outputs": [],
   "source": [
    "from OpenHosta import emulator\n",
    "\n",
    "llm = emulator()"
   ]
  },
  {
   "cell_type": "code",
   "execution_count": 52,
   "metadata": {},
   "outputs": [],
   "source": [
    "class Game_tic_tac_toe:\n",
    "    def __init__(self):\n",
    "        pass\n",
    "\n",
    "    @llm.emulate\n",
    "    def find_next_move(self, intput):\n",
    "        '''Beforehand here's the rules of the tic-tac-toe games:\n",
    "        Basic Rules:\n",
    "\n",
    "    Players: The game is played by two players. One player uses 'X' and the other uses '0'.\n",
    "    Game Board: The game is played on a 3x3 grid.\n",
    "    Objective: The goal is to be the first player to get three of their marks in a row, either horizontally, vertically, or diagonally.\n",
    "\n",
    "How to Play:\n",
    "\n",
    "    Starting the Game: Players decide who will go first. This can be done by a coin toss or any other method of choice.\n",
    "    Turns: Players take turns placing their mark (either 'X' or '0') in an empty cell on the grid.\n",
    "    Winning the Game: A player wins by placing three of their marks in a row, column, or diagonal.\n",
    "    Draw: If all nine cells are filled and neither player has three in a row, the game is a draw.\n",
    "\n",
    "Strategic Considerations:\n",
    "\n",
    "    First Move Advantage: The player who goes first (usually 'X') has a slight advantage. Optimal play can mitigate this.\n",
    "    Center Control: The center cell is the most strategic position as it is part of four potential winning lines (two diagonals, one row, and one column).\n",
    "    Forks: Creating a situation where you have two ways to win on your next turn is called a fork. This forces the opponent to block one line, allowing you to win with the other.\n",
    "\n",
    "Advanced Strategies:\n",
    "\n",
    "    Blocking: Always block your opponent’s potential winning move if they have two in a row.\n",
    "    Creating Opportunities: Aim to create multiple opportunities to win simultaneously.\n",
    "    Anticipation: Try to anticipate your opponent’s moves and plan your strategy accordingly.\n",
    "\n",
    "Variations:\n",
    "\n",
    "    Board Size: While the standard board is 3x3, variations can include larger grids like 4x4 or 5x5, which can change the complexity and strategies of the game.\n",
    "    Marks: Some variations use different marks or even numbers.\n",
    "    Multiple Rounds: Some play multiple rounds and keep score over several games.\n",
    "\n",
    "Common Terms:\n",
    "\n",
    "    Row: A horizontal line of three cells.\n",
    "    Column: A vertical line of three cells.\n",
    "    Diagonal: A line of three cells that runs from one corner to the opposite corner.\n",
    "    Fork: A strategy where a player creates two potential winning moves simultaneously.\n",
    "    Block: Placing a mark to prevent the opponent from winning.\n",
    "\n",
    "Winning and Draw Conditions:\n",
    "\n",
    "    Three in a Row: The primary winning condition is getting three of your marks in a row.\n",
    "    Draw: If all cells are filled and no player has three in a row, the game ends in a draw.\n",
    "\n",
    "Etiquette and Fair Play:\n",
    "\n",
    "    Respect Turns: Ensure each player takes their turn in the correct order.\n",
    "    No Cheating: Do not change or move marks once placed.\n",
    "    Sportsmanship: Congratulate your opponent regardless of the outcome.\n",
    "\n",
    "Mathematical Perspective:\n",
    "\n",
    "    Combinatorial Analysis: There are 255,168 possible games of tic-tac-toe if you consider all possible moves and outcomes.\n",
    "    Symmetry: Many of these games are symmetrical, meaning they can be rotated or flipped and still be considered the same game.\n",
    "\n",
    "You will act as an expert game developer to help me create a function that determines the next move in a tic-tac-toe game with the purpose of winning the game. The function will return the next move and output the same type of input but with the next move added. The function will check the current counts of 'X' and '0' in the input:\n",
    "\n",
    "    If there are more 'X's than '0's, the function will add an '0'.\n",
    "    Otherwise, the function will add an 'X'.\n",
    "\n",
    "The input will be a character array containing the characters 'X', '0', and ' '. The output must be of the same type as the input. The function must handle error cases by ignoring and adapting to the errors, such as when the input type is different, or if the number of 'X' or '0' is inconsistent with the rules of the tic-tac-toe game. The primary purpose of the function is to make moves that will lead to winning the game.\n",
    "\n",
    "The function should prioritize blocking the opponent's winning moves and creating opportunities for a win. Specifically:\n",
    "\n",
    "    If the opponent has two filled squares forming a line, the function must block it.\n",
    "    Otherwise, the function must try to form a filled line to win.\n",
    "    It can't fill an alredy filled square, an empty square is represented by ' '.\n",
    "\n",
    "Here are examples of valid and invalid inputs:\n",
    "Valid input: [['X', '0', ' '], ['X', '0', ' '], [' ', ' ', '0']]\n",
    "Valid output: [['X', '0', ' '], ['X', '0', ' '], ['X', ' ', '0']]\n",
    "\n",
    "Invalid input: [['X', 'X', ' '], ['X', 'X', ' '], [' ', ' ', '0']]\n",
    "        '''\n",
    "    @llm.emulate\n",
    "    def check_winner(self, input) -> int:\n",
    "        ''' Beforehand here's the rules of the tic-tac-toe games:\n",
    "        Basic Rules:\n",
    "\n",
    "    Players: The game is played by two players. One player uses 'X' and the other uses '0'.\n",
    "    Game Board: The game is played on a 3x3 grid.\n",
    "    Objective: The goal is to be the first player to get three of their marks in a row, either horizontally, vertically, or diagonally.\n",
    "\n",
    "How to Play:\n",
    "\n",
    "    Starting the Game: Players decide who will go first. This can be done by a coin toss or any other method of choice.\n",
    "    Turns: Players take turns placing their mark (either 'X' or '0') in an empty cell on the grid.\n",
    "    Winning the Game: A player wins by placing three of their marks in a row, column, or diagonal.\n",
    "    Draw: If all nine cells are filled and neither player has three in a row, the game is a draw.\n",
    "\n",
    "Strategic Considerations:\n",
    "\n",
    "    First Move Advantage: The player who goes first (usually 'X') has a slight advantage. Optimal play can mitigate this.\n",
    "    Center Control: The center cell is the most strategic position as it is part of four potential winning lines (two diagonals, one row, and one column).\n",
    "    Forks: Creating a situation where you have two ways to win on your next turn is called a fork. This forces the opponent to block one line, allowing you to win with the other.\n",
    "\n",
    "Advanced Strategies:\n",
    "\n",
    "    Blocking: Always block your opponent’s potential winning move if they have two in a row.\n",
    "    Creating Opportunities: Aim to create multiple opportunities to win simultaneously.\n",
    "    Anticipation: Try to anticipate your opponent’s moves and plan your strategy accordingly.\n",
    "\n",
    "Variations:\n",
    "\n",
    "    Board Size: While the standard board is 3x3, variations can include larger grids like 4x4 or 5x5, which can change the complexity and strategies of the game.\n",
    "    Marks: Some variations use different marks or even numbers.\n",
    "    Multiple Rounds: Some play multiple rounds and keep score over several games.\n",
    "\n",
    "Common Terms:\n",
    "\n",
    "    Row: A horizontal line of three cells.\n",
    "    Column: A vertical line of three cells.\n",
    "    Diagonal: A line of three cells that runs from one corner to the opposite corner.\n",
    "    Fork: A strategy where a player creates two potential winning moves simultaneously.\n",
    "    Block: Placing a mark to prevent the opponent from winning.\n",
    "\n",
    "Winning and Draw Conditions:\n",
    "\n",
    "    Three in a Row: The primary winning condition is getting three of your marks in a row.\n",
    "    Draw: If all cells are filled and no player has three in a row, the game ends in a draw.\n",
    "\n",
    "Etiquette and Fair Play:\n",
    "\n",
    "    Respect Turns: Ensure each player takes their turn in the correct order.\n",
    "    No Cheating: Do not change or move marks once placed.\n",
    "    Sportsmanship: Congratulate your opponent regardless of the outcome.\n",
    "\n",
    "Mathematical Perspective:\n",
    "\n",
    "    Combinatorial Analysis: There are 255,168 possible games of tic-tac-toe if you consider all possible moves and outcomes.\n",
    "    Symmetry: Many of these games are symmetrical, meaning they can be rotated or flipped and still be considered the same game.\n",
    "\n",
    "You will act as an expert game developer to help me create a function that checks if there is a winner in a tic-tac-toe game. The function will return:\n",
    "\n",
    "    1 if '0' wins (i.e., a player has succeeded in forming a vertical, horizontal, or diagonal line in the array with the '0' character),\n",
    "    2 if 'X' wins (i.e., a player has succeeded in forming a vertical, horizontal, or diagonal line in the array with the 'X' character),\n",
    "    0 if there is no winner or if it's a tie (i.e., no one has succeeded in forming a vertical, horizontal, or diagonal line in the array with a single character; spaces are not considered characters, they are empty squares),\n",
    "    -1 if the game isn't ended yet (i.e., none of the winning or tie conditions are met).\n",
    "\n",
    "The input will be a character array containing the characters 'X', '0', and ' '. The function must handle error cases by skipping invalid entries and adapting to the errors, such as when the input type is different or if the number of 'X' or '0' is inconsistent with the rules of the tic-tac-toe game.\n",
    "\n",
    "Here are examples of valid and invalid inputs:\n",
    "Valid input (tie game): [['0', '0', 'X'], ['X', 'X', '0'], ['0', 'X', 'X']]\n",
    "Valid output: 0\n",
    "\n",
    "Valid input (game won by '0'): [['0', 'X', 'X'], [' ', '0', 'X'], [' ', ' ', '0']]\n",
    "Valid output: 1\n",
    "\n",
    "Valid input (game won by 'X'): [['0', 'X', '0'], ['X', 'X', '0'], ['0', 'X', 'X']]\n",
    "Valid output: 2\n",
    "\n",
    "Valid input (game not ended yet): [['0', 'X', ' '], [' ', '0', 'X'], [' ', ' ', ' ']]\n",
    "Valid output: -1\n",
    "\n",
    "Invalid input: [['X', 'X', ' '], ['X', 'X', ' '], [' ', ' ', '0']]\n",
    "        '''\n",
    "    \n",
    "    @llm.emulate\n",
    "    def create_a_board(self, intput):\n",
    "        '''\n",
    "        You will act as an expert game developer to help me create a function that generates a tic-tac-toe board. The function will create a board with 3x3 dimensions and return it as a formatted string based on the given input. The input will be a character array containing the characters 'X', '0', and ' '. The output must adhere to the following format, ensuring correct spacing between characters:\n",
    "\n",
    "Example input:\n",
    "\n",
    "[['X', '0', 'X'], \n",
    "['0', ' ', '0'], \n",
    "['0', 'X', 'X']]\n",
    "\n",
    "Example output:\n",
    "```\n",
    "\"X | 0 | X\n",
    "----------\n",
    "0 |   | 0\n",
    "----------\n",
    "0 | X | X\"\n",
    "        '''\n",
    "    \n",
    "    @llm.emulate\n",
    "    def parse_move_player(self, input, position):\n",
    "        '''\n",
    "        This function take in parameter an input and a positon,\n",
    "        the position is the position where the player want to play\n",
    "        the position is the position where the player want to play\n",
    "        so your goal is to return the input with the new move.\n",
    "        As like you need to add an extra X at the postion given in parameter if it's possible or not.\n",
    "        Like the problem can.\n",
    "        The moves are beetween 1 and 9 as the 1 correspond to the top left corner and 9 to the bottom right corner.\n",
    "        Return the input with the new move.\n",
    "        '''"
   ]
  },
  {
   "cell_type": "code",
   "execution_count": 53,
   "metadata": {},
   "outputs": [],
   "source": [
    "game = Game_tic_tac_toe()"
   ]
  },
  {
   "cell_type": "code",
   "execution_count": 60,
   "metadata": {},
   "outputs": [
    {
     "data": {
      "text/plain": [
       "[['X', '0', ' '], ['X', ' ', ' '], ['X', '0', '0']]"
      ]
     },
     "execution_count": 60,
     "metadata": {},
     "output_type": "execute_result"
    }
   ],
   "source": [
    "x = game.find_next_move([['X', '0', ' '], ['X', ' ', ' '], [' ', '0', '0']])\n",
    "x"
   ]
  },
  {
   "cell_type": "code",
   "execution_count": 61,
   "metadata": {},
   "outputs": [
    {
     "name": "stdout",
     "output_type": "stream",
     "text": [
      "{'return': [['X', '0', ' '], ['X', ' ', ' '], ['X', '0', '0']], 'confidence': 'high-unique'}\n"
     ]
    }
   ],
   "source": [
    "print(llm.__last_data__)"
   ]
  },
  {
   "cell_type": "code",
   "execution_count": 62,
   "metadata": {},
   "outputs": [
    {
     "data": {
      "text/plain": [
       "2"
      ]
     },
     "execution_count": 62,
     "metadata": {},
     "output_type": "execute_result"
    }
   ],
   "source": [
    "game.check_winner(x)"
   ]
  },
  {
   "cell_type": "code",
   "execution_count": 63,
   "metadata": {},
   "outputs": [
    {
     "name": "stdout",
     "output_type": "stream",
     "text": [
      "[['X', '0', ' '], ['X', ' ', ' '], ['X', '0', '0']]\n",
      "X | 0 |  \n",
      "----------\n",
      "X |   |  \n",
      "----------\n",
      "X | 0 | 0\n"
     ]
    }
   ],
   "source": [
    "output = game.create_a_board(x)\n",
    "print(x)\n",
    "print(output)"
   ]
  },
  {
   "cell_type": "code",
   "execution_count": 64,
   "metadata": {},
   "outputs": [
    {
     "data": {
      "text/plain": [
       "[['X', '0', ' '], ['X', ' ', ' '], ['X', 'X', '0']]"
      ]
     },
     "execution_count": 64,
     "metadata": {},
     "output_type": "execute_result"
    }
   ],
   "source": [
    "game.parse_move_player(x, 7)"
   ]
  }
 ],
 "metadata": {
  "kernelspec": {
   "display_name": "Python 3",
   "language": "python",
   "name": "python3"
  },
  "language_info": {
   "codemirror_mode": {
    "name": "ipython",
    "version": 3
   },
   "file_extension": ".py",
   "mimetype": "text/x-python",
   "name": "python",
   "nbconvert_exporter": "python",
   "pygments_lexer": "ipython3",
   "version": "3.11.9"
  }
 },
 "nbformat": 4,
 "nbformat_minor": 2
}
