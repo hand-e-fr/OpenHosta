{
 "cells": [
  {
   "cell_type": "code",
   "execution_count": 1,
   "metadata": {},
   "outputs": [],
   "source": [
    "from OpenHosta import emulator\n",
    "\n",
    "llm = emulator()"
   ]
  },
  {
   "cell_type": "code",
   "execution_count": 6,
   "metadata": {},
   "outputs": [],
   "source": [
    "class Documentation():\n",
    "    def __init__(self):\n",
    "        pass\n",
    "\n",
    "\n",
    "    @llm.emulate\n",
    "    def AI_add_two_numbers(self, a:int, b:int) -> int:\n",
    "        \"\"\"\n",
    "        This function adds two numbers\n",
    "        \"\"\"\n",
    "        pass\n",
    "\n",
    "    def Human_add_two_numbers(self, a:int, b:int) -> int:\n",
    "        return a + b\n",
    "    \n",
    "    \n",
    "    def oracle_debuger (self, a:int, b:int) -> bool:\n",
    "        if (a == b):\n",
    "            return True\n",
    "        else:\n",
    "            return False\n",
    "\n",
    "    @llm.oracle\n",
    "    def tests (self, a:int , b:int) -> int:\n",
    "        \"\"\"\n",
    "        First, calculate the result of the AI and a function\n",
    "        that do the same thing to compare the AI to your code.\n",
    "        \"\"\"\n",
    "        add_1 = self.AI_add_two_numbers(a, b)\n",
    "        print(f\"Result of AI addition :{ add_1}\")\n",
    "        add_2 = self.Human_add_two_numbers(a,b)\n",
    "        print(f\"Result of An addition :{ add_2}\")\n",
    "\n",
    "        data_game = [add_1, add_2]\n",
    "\n",
    "        result = self.oracle_debuger(add_1, add_2)\n",
    "\n",
    "        if result == True:\n",
    "            return data_game, 0\n",
    "        else :\n",
    "            return data_game, 1\n"
   ]
  },
  {
   "cell_type": "code",
   "execution_count": 3,
   "metadata": {},
   "outputs": [],
   "source": [
    "example = Documentation()"
   ]
  },
  {
   "cell_type": "code",
   "execution_count": 4,
   "metadata": {},
   "outputs": [
    {
     "name": "stdout",
     "output_type": "stream",
     "text": [
      "Result of AI addition :7\n",
      "Result of An addition :7\n"
     ]
    },
    {
     "data": {
      "text/plain": [
       "'{\\n     \"Version\": 0.1,\\n     \"Id session\": \"5dd9ffe4-c401-4158-ab9f-7cb70991d49b\",\\n     \"Timestamp\": 1720078341,\\n     \"func_call\": \"tests(<__main__.Documentation object at 0x7f6c481f7c50>, 5, 2)\",\\n     \"func_hash\": \"6a136adf929de4c5a55d528e9ac4045e\",\\n     \"Tag output\": 0,\\n     \"Data\": [\\n          7,\\n          7\\n     ]\\n}'"
      ]
     },
     "execution_count": 4,
     "metadata": {},
     "output_type": "execute_result"
    }
   ],
   "source": [
    "example.tests(5 , 2)"
   ]
  }
 ],
 "metadata": {
  "kernelspec": {
   "display_name": "Python 3",
   "language": "python",
   "name": "python3"
  },
  "language_info": {
   "codemirror_mode": {
    "name": "ipython",
    "version": 3
   },
   "file_extension": ".py",
   "mimetype": "text/x-python",
   "name": "python",
   "nbconvert_exporter": "python",
   "pygments_lexer": "ipython3",
   "version": "3.12.3"
  }
 },
 "nbformat": 4,
 "nbformat_minor": 2
}
