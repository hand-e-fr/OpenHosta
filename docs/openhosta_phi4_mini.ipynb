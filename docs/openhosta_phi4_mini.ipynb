{
  "nbformat": 4,
  "nbformat_minor": 0,
  "metadata": {
    "colab": {
      "provenance": [],
      "gpuType": "T4",
      "include_colab_link": true
    },
    "kernelspec": {
      "name": "python3",
      "display_name": "Python 3"
    },
    "language_info": {
      "name": "python"
    },
    "accelerator": "GPU"
  },
  "cells": [
    {
      "cell_type": "markdown",
      "metadata": {
        "id": "view-in-github",
        "colab_type": "text"
      },
      "source": [
        "<a href=\"https://colab.research.google.com/github/hand-e-fr/OpenHosta/blob/doc/docs/openhosta_phi4_mini.ipynb\" target=\"_parent\"><img src=\"https://colab.research.google.com/assets/colab-badge.svg\" alt=\"Open In Colab\"/></a>"
      ]
    },
    {
      "cell_type": "markdown",
      "source": [
        "# OpenHosta basic example with a Local Phi-4 or gpt-4o\n",
        "\n",
        "This colab demonstrate simple use cases of OpenHosta. If you do not have an OpenAI (or other) API KEY, you can run the first part **Install a local Phi-4**. Otherwise, directly jump to step 2: **Basic Usage**."
      ],
      "metadata": {
        "id": "2ywSpiksruBs"
      }
    },
    {
      "cell_type": "markdown",
      "source": [
        "## Install a local Phi-4"
      ],
      "metadata": {
        "id": "1DjZKsvksUPf"
      }
    },
    {
      "cell_type": "code",
      "source": [
        "!apt install -y screen"
      ],
      "metadata": {
        "id": "5NCvoTi3phgq",
        "colab": {
          "base_uri": "https://localhost:8080/"
        },
        "outputId": "977e1c10-dbc1-4f8c-fea7-0577836ffae6"
      },
      "execution_count": 1,
      "outputs": [
        {
          "output_type": "stream",
          "name": "stdout",
          "text": [
            "Reading package lists... Done\n",
            "Building dependency tree... Done\n",
            "Reading state information... Done\n",
            "Suggested packages:\n",
            "  byobu | screenie | iselect ncurses-term\n",
            "The following NEW packages will be installed:\n",
            "  screen\n",
            "0 upgraded, 1 newly installed, 0 to remove and 29 not upgraded.\n",
            "Need to get 672 kB of archives.\n",
            "After this operation, 1,029 kB of additional disk space will be used.\n",
            "Get:1 http://archive.ubuntu.com/ubuntu jammy/main amd64 screen amd64 4.9.0-1 [672 kB]\n",
            "Fetched 672 kB in 1s (745 kB/s)\n",
            "Selecting previously unselected package screen.\n",
            "(Reading database ... 124947 files and directories currently installed.)\n",
            "Preparing to unpack .../screen_4.9.0-1_amd64.deb ...\n",
            "Unpacking screen (4.9.0-1) ...\n",
            "Setting up screen (4.9.0-1) ...\n",
            "Processing triggers for man-db (2.10.2-1) ...\n"
          ]
        }
      ]
    },
    {
      "cell_type": "code",
      "source": [
        "#!curl -fsSL https://ollama.com/install.sh | sh"
      ],
      "metadata": {
        "id": "dPQ1TFFGp4_w"
      },
      "execution_count": null,
      "outputs": []
    },
    {
      "cell_type": "code",
      "source": [
        "# Load and run the model:\n",
        "!screen -dmS ollama ollama serve"
      ],
      "metadata": {
        "id": "Rczlf_0Dp9b9"
      },
      "execution_count": 7,
      "outputs": []
    },
    {
      "cell_type": "code",
      "source": [
        "# Can take 5 minutes\n",
        "!ollama run phi4-mini hello --verbose  2>&1 | grep -E \"([^0]0%|Bonjour|:)\""
      ],
      "metadata": {
        "id": "ivzgDLEuqEcI",
        "colab": {
          "base_uri": "https://localhost:8080/"
        },
        "outputId": "20c8ceb5-0adf-4149-eecb-7ddd131cb7e0"
      },
      "execution_count": 7,
      "outputs": [
        {
          "output_type": "stream",
          "name": "stdout",
          "text": [
            "total duration:       315.970426ms\n",
            "load duration:        28.64048ms\n",
            "prompt eval count:    4 token(s)\n",
            "prompt eval duration: 8ms\n",
            "prompt eval rate:     500.00 tokens/s\n",
            "eval count:           10 token(s)\n",
            "eval duration:        277ms\n",
            "eval rate:            36.10 tokens/s\n"
          ]
        }
      ]
    },
    {
      "cell_type": "code",
      "execution_count": 5,
      "metadata": {
        "id": "onr1w8jbEcby",
        "colab": {
          "base_uri": "https://localhost:8080/"
        },
        "outputId": "7be72098-2fc9-4536-905a-8b71e0de1ced"
      },
      "outputs": [
        {
          "output_type": "stream",
          "name": "stdout",
          "text": [
            "Collecting OpenHosta\n",
            "  Downloading OpenHosta-2.2.1-py3-none-any.whl.metadata (8.4 kB)\n",
            "Requirement already satisfied: requests>=2.32.3 in /usr/local/lib/python3.11/dist-packages (from OpenHosta) (2.32.3)\n",
            "Requirement already satisfied: typing_extensions>=4.12.2 in /usr/local/lib/python3.11/dist-packages (from OpenHosta) (4.12.2)\n",
            "Requirement already satisfied: jinja2>=3.1.5 in /usr/local/lib/python3.11/dist-packages (from OpenHosta) (3.1.5)\n",
            "Requirement already satisfied: MarkupSafe>=2.0 in /usr/local/lib/python3.11/dist-packages (from jinja2>=3.1.5->OpenHosta) (3.0.2)\n",
            "Requirement already satisfied: charset-normalizer<4,>=2 in /usr/local/lib/python3.11/dist-packages (from requests>=2.32.3->OpenHosta) (3.4.1)\n",
            "Requirement already satisfied: idna<4,>=2.5 in /usr/local/lib/python3.11/dist-packages (from requests>=2.32.3->OpenHosta) (3.10)\n",
            "Requirement already satisfied: urllib3<3,>=1.21.1 in /usr/local/lib/python3.11/dist-packages (from requests>=2.32.3->OpenHosta) (2.3.0)\n",
            "Requirement already satisfied: certifi>=2017.4.17 in /usr/local/lib/python3.11/dist-packages (from requests>=2.32.3->OpenHosta) (2025.1.31)\n",
            "Downloading OpenHosta-2.2.1-py3-none-any.whl (61 kB)\n",
            "\u001b[?25l   \u001b[90m━━━━━━━━━━━━━━━━━━━━━━━━━━━━━━━━━━━━━━━━\u001b[0m \u001b[32m0.0/61.6 kB\u001b[0m \u001b[31m?\u001b[0m eta \u001b[36m-:--:--\u001b[0m\r\u001b[2K   \u001b[90m━━━━━━━━━━━━━━━━━━━━━━━━━━━━━━━━━━━━━━━━\u001b[0m \u001b[32m61.6/61.6 kB\u001b[0m \u001b[31m2.2 MB/s\u001b[0m eta \u001b[36m0:00:00\u001b[0m\n",
            "\u001b[?25hInstalling collected packages: OpenHosta\n",
            "Successfully installed OpenHosta-2.2.1\n"
          ]
        }
      ],
      "source": [
        "!pip install OpenHosta"
      ]
    },
    {
      "cell_type": "markdown",
      "source": [
        "## Basic Usage of OpenHosta"
      ],
      "metadata": {
        "id": "0x6AUM3osYK2"
      }
    },
    {
      "cell_type": "markdown",
      "source": [
        "### Configure the LLM that you want to use"
      ],
      "metadata": {
        "id": "1ZEB71Ytsk4B"
      }
    },
    {
      "cell_type": "code",
      "source": [
        "from OpenHosta import config\n",
        "\n",
        "# If you have an OpenAI API key you can use it like this:\n",
        "# Use default model (gpt-4o) through API key\n",
        "# config.set_default_apiKey(<<YOUR API KEY>>)\n",
        "\n",
        "# Comment this if you use OpenAI models\n",
        "# Use Microsoft local Phi-4 through ollama\n",
        "my_model=config.Model(\n",
        "    base_url=\"http://localhost:11434/v1/chat/completions\",\n",
        "    model=\"phi4-mini\", api_key=\"none\", timeout=120\n",
        ")\n",
        "config.set_default_model(my_model)\n"
      ],
      "metadata": {
        "id": "SBC5-L0zqH1c"
      },
      "execution_count": 8,
      "outputs": []
    },
    {
      "cell_type": "markdown",
      "source": [
        "### Emulate functions using the seleted LLM"
      ],
      "metadata": {
        "id": "FauFveKWsp3G"
      }
    },
    {
      "cell_type": "code",
      "source": [
        "from OpenHosta import emulate_async"
      ],
      "metadata": {
        "id": "SEpo1gfJT8Bg"
      },
      "execution_count": 14,
      "outputs": []
    },
    {
      "cell_type": "code",
      "source": [
        "async def translate(text:str, language:str)->str:\n",
        "    \"\"\"\n",
        "    This function translates the text in the “text” parameter into the language specified in the “language” parameter.\n",
        "    \"\"\"\n",
        "    return await emulate_async()\n",
        "\n",
        "result = await translate(\"Hello World!\", \"French\")\n",
        "print(result)"
      ],
      "metadata": {
        "id": "gE1ecyDzUVFE",
        "colab": {
          "base_uri": "https://localhost:8080/"
        },
        "outputId": "35a8a881-6ea3-4501-a7a0-85cde7ccabe3"
      },
      "execution_count": 21,
      "outputs": [
        {
          "output_type": "stream",
          "name": "stdout",
          "text": [
            "{\"type\":\"string\",\"content\":\"Bonjour le Monde !\"}\n"
          ]
        }
      ]
    },
    {
      "cell_type": "code",
      "source": [
        "# You can select another model like this\n",
        "#my_model = config.Model(\n",
        "#    model=\"gpt-4o-mini\",\n",
        "#    base_url=\"https://api.openai.com/v1/chat/completions\",\n",
        "#    api_key=<<API KEY>>\n",
        "#)"
      ],
      "metadata": {
        "id": "avGsfrxQUsCb"
      },
      "execution_count": null,
      "outputs": []
    },
    {
      "cell_type": "code",
      "source": [
        "async def find_name_age(sentence:str, id:dict)->dict:\n",
        "    \"\"\"\n",
        "    This function find in a text the name and the age of a personn.\n",
        "\n",
        "    Args:\n",
        "        sentence: The text in which to search for information\n",
        "        id: The dictionary to fill in with information\n",
        "\n",
        "    Return:\n",
        "        A dictionary identical to the one passed in parameter, but filled with the information.\n",
        "        If the information is not found, fill with the values with “None”.\n",
        "    \"\"\"\n",
        "    return await emulate_async(model=my_model)\n",
        "\n",
        "return_dict = {\"name\": \"\", \"age\": \"\"}\n",
        "result = await find_name_age(\"Hello, I'm John Wick, i'm 30 and I live in New York\", return_dict)\n",
        "print(result)"
      ],
      "metadata": {
        "id": "I_AJQzoKU192",
        "colab": {
          "base_uri": "https://localhost:8080/"
        },
        "outputId": "a8a937bf-28bb-46c6-e8eb-b0d5e7ce3a7e"
      },
      "execution_count": 17,
      "outputs": [
        {
          "output_type": "stream",
          "name": "stdout",
          "text": [
            "{'type': 'dict', 'data': {'name': 'John Wick', 'age': '30'}}\n"
          ]
        }
      ]
    },
    {
      "cell_type": "markdown",
      "source": [
        "### Specify advanced return types"
      ],
      "metadata": {
        "id": "bVuS-CC6szQM"
      }
    },
    {
      "cell_type": "code",
      "source": [
        "from typing import Dict, Tuple, List\n",
        "\n",
        "async def analyze_text(text: str) -> Dict[str, List[Tuple[int, str]]]:\n",
        "    \"\"\"Analyze text to map each word to a list of tuples containing word length and word.\"\"\"\n",
        "    return await emulate_async()\n",
        "\n",
        "# Example usage\n",
        "analysis = await analyze_text(\"Hello, World!\")\n",
        "\n",
        "print(analysis)\n",
        "print(type(analysis))"
      ],
      "metadata": {
        "id": "GXiKTdYm_GGp",
        "colab": {
          "base_uri": "https://localhost:8080/"
        },
        "outputId": "c96a8edd-3b5e-4f63-ec84-0ab2be90875f"
      },
      "execution_count": 24,
      "outputs": [
        {
          "output_type": "stream",
          "name": "stdout",
          "text": [
            "{'type': 'object', 'wordAnalysis': [{'length': 6, 'word': ['Hello']}, {'length': 1, 'word': [',']}]}\n",
            "<class 'dict'>\n"
          ]
        }
      ]
    },
    {
      "cell_type": "markdown",
      "source": [
        "### Specify pydantic return strucures\n",
        "\n",
        "OpenHosta is compatible with pydantic. You can specify pydantic input and output types and OpenHosta will propagate schema and Field documentation to the LLM."
      ],
      "metadata": {
        "id": "R5qFAS06s7Eq"
      }
    },
    {
      "cell_type": "code",
      "source": [
        "!pip install pydantic"
      ],
      "metadata": {
        "id": "-w2PyozHrklT",
        "colab": {
          "base_uri": "https://localhost:8080/"
        },
        "outputId": "40c8bb28-8962-41b3-d41c-470289407fe8"
      },
      "execution_count": 25,
      "outputs": [
        {
          "output_type": "stream",
          "name": "stdout",
          "text": [
            "Requirement already satisfied: pydantic in /usr/local/lib/python3.11/dist-packages (2.10.6)\n",
            "Requirement already satisfied: annotated-types>=0.6.0 in /usr/local/lib/python3.11/dist-packages (from pydantic) (0.7.0)\n",
            "Requirement already satisfied: pydantic-core==2.27.2 in /usr/local/lib/python3.11/dist-packages (from pydantic) (2.27.2)\n",
            "Requirement already satisfied: typing-extensions>=4.12.2 in /usr/local/lib/python3.11/dist-packages (from pydantic) (4.12.2)\n"
          ]
        }
      ]
    },
    {
      "cell_type": "code",
      "source": [
        "from pydantic import BaseModel, Field\n",
        "\n",
        "class Personn(BaseModel):\n",
        "    name: str = Field(..., description = \"The full name\")\n",
        "    age: int\n",
        "\n",
        "async def find_name_age_pydantic(sentence:str)->Personn:\n",
        "    \"\"\"\n",
        "    This function find in a text the name and the age of a personn.\n",
        "\n",
        "    Args:\n",
        "        sentence: The text in which to search for information\n",
        "\n",
        "    Return:\n",
        "        A Pydantic model, but filled with the information.\n",
        "        If the information is not found, fill with the values with “None”.\n",
        "    \"\"\"\n",
        "    return await emulate_async()\n",
        "\n",
        "result = await find_name_age_pydantic(\"Luke Skywalker is very surprising: he's only 27 when he becomes a Jedi.\")\n",
        "print(result)"
      ],
      "metadata": {
        "id": "wnn5ed4QWXYs",
        "colab": {
          "base_uri": "https://localhost:8080/"
        },
        "outputId": "ff0a8f76-cd5a-40ef-ef4c-dd3213117d60"
      },
      "execution_count": 28,
      "outputs": [
        {
          "output_type": "stream",
          "name": "stdout",
          "text": [
            "{'properties': {'name': {'description': 'The full name', 'title': 'Name', 'type': 'string'}, 'age': {'title': 'Age', 'type': 'integer'}}, 'required': ['name', 'age'], 'title': 'Personn', 'type': 'object'}\n"
          ]
        },
        {
          "output_type": "stream",
          "name": "stderr",
          "text": [
            "[TypeConverter.check]: Failed to convert pydantic type from the LLM. Keep original type.\n"
          ]
        }
      ]
    },
    {
      "cell_type": "markdown",
      "source": [
        "### Limitations\n",
        "\n",
        "The emulation is limited by the LLM capabilities. Try to have it count r in strawberrry and you will get into troubles ;-).\n",
        "Make sure the LLM is capable and not alucinating before you implement an emulated function."
      ],
      "metadata": {
        "id": "VvcHBChjtyys"
      }
    },
    {
      "cell_type": "code",
      "source": [
        "async def find_occurence_of_a_word(word :str, text: str) -> int:\n",
        "    \"\"\"\n",
        "    This function takes a word and a text and returns\n",
        "    the number of times the word appears in the text.\n",
        "    \"\"\"\n",
        "    return await emulate_async()\n",
        "\n",
        "await find_occurence_of_a_word(\"Hello\", \"Hello World Hello!\")\n"
      ],
      "metadata": {
        "id": "E5eTPiUyXjXR",
        "colab": {
          "base_uri": "https://localhost:8080/"
        },
        "outputId": "0f1ab313-9af7-44af-9e60-14d917016ab5"
      },
      "execution_count": 29,
      "outputs": [
        {
          "output_type": "stream",
          "name": "stderr",
          "text": [
            "[TypeConverter.check]: Failed to convert basic type from the LLM. Keep original type.\n"
          ]
        },
        {
          "output_type": "execute_result",
          "data": {
            "text/plain": [
              "{'type': 'integer', 'value': 2}"
            ]
          },
          "metadata": {},
          "execution_count": 29
        }
      ]
    }
  ]
}