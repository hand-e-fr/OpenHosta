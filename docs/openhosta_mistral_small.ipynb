{
  "nbformat": 4,
  "nbformat_minor": 0,
  "metadata": {
    "colab": {
      "provenance": [],
      "gpuType": "T4",
      "include_colab_link": true
    },
    "kernelspec": {
      "name": "python3",
      "display_name": "Python 3"
    },
    "language_info": {
      "name": "python"
    },
    "accelerator": "GPU"
  },
  "cells": [
    {
      "cell_type": "markdown",
      "metadata": {
        "id": "view-in-github",
        "colab_type": "text"
      },
      "source": [
        "<a href=\"https://colab.research.google.com/github/hand-e-fr/OpenHosta/blob/doc/docs/openhosta_mistral_small.ipynb\" target=\"_parent\"><img src=\"https://colab.research.google.com/assets/colab-badge.svg\" alt=\"Open In Colab\"/></a>"
      ]
    },
    {
      "cell_type": "markdown",
      "source": [
        "# OpenHosta basic example with a Local Mistral-Small\n",
        "\n",
        "This colab demonstrate simple use cases of OpenHosta. If you do not have an OpenAI (or other) API KEY, you can run the first part **Install a local Phi-4**. Otherwise, directly jump to step 2: **Basic Usage**."
      ],
      "metadata": {
        "id": "2ywSpiksruBs"
      }
    },
    {
      "cell_type": "markdown",
      "source": [
        "## Install a local Phi-4"
      ],
      "metadata": {
        "id": "1DjZKsvksUPf"
      }
    },
    {
      "cell_type": "code",
      "source": [
        "!apt install -y screen"
      ],
      "metadata": {
        "id": "5NCvoTi3phgq",
        "colab": {
          "base_uri": "https://localhost:8080/"
        },
        "outputId": "1c725bf8-5b48-461b-ee90-2e3fb3eece3f"
      },
      "execution_count": 1,
      "outputs": [
        {
          "output_type": "stream",
          "name": "stdout",
          "text": [
            "Reading package lists... Done\n",
            "Building dependency tree... Done\n",
            "Reading state information... Done\n",
            "Suggested packages:\n",
            "  byobu | screenie | iselect ncurses-term\n",
            "The following NEW packages will be installed:\n",
            "  screen\n",
            "0 upgraded, 1 newly installed, 0 to remove and 18 not upgraded.\n",
            "Need to get 672 kB of archives.\n",
            "After this operation, 1,029 kB of additional disk space will be used.\n",
            "Get:1 http://archive.ubuntu.com/ubuntu jammy/main amd64 screen amd64 4.9.0-1 [672 kB]\n",
            "Fetched 672 kB in 1s (937 kB/s)\n",
            "Selecting previously unselected package screen.\n",
            "(Reading database ... 124950 files and directories currently installed.)\n",
            "Preparing to unpack .../screen_4.9.0-1_amd64.deb ...\n",
            "Unpacking screen (4.9.0-1) ...\n",
            "Setting up screen (4.9.0-1) ...\n",
            "Processing triggers for man-db (2.10.2-1) ...\n"
          ]
        }
      ]
    },
    {
      "cell_type": "code",
      "source": [
        "!curl -fsSL https://ollama.com/install.sh | sh"
      ],
      "metadata": {
        "id": "dPQ1TFFGp4_w",
        "colab": {
          "base_uri": "https://localhost:8080/"
        },
        "outputId": "e9fc6aa6-0f52-4d35-a4f6-545fb2750c13"
      },
      "execution_count": 2,
      "outputs": [
        {
          "output_type": "stream",
          "name": "stdout",
          "text": [
            ">>> Installing ollama to /usr/local\n",
            ">>> Downloading Linux amd64 bundle\n",
            "############################################################################################# 100.0%\n",
            ">>> Creating ollama user...\n",
            ">>> Adding ollama user to video group...\n",
            ">>> Adding current user to ollama group...\n",
            ">>> Creating ollama systemd service...\n",
            "\u001b[1m\u001b[31mWARNING:\u001b[m systemd is not running\n",
            "\u001b[1m\u001b[31mWARNING:\u001b[m Unable to detect NVIDIA/AMD GPU. Install lspci or lshw to automatically detect and install GPU dependencies.\n",
            ">>> The Ollama API is now available at 127.0.0.1:11434.\n",
            ">>> Install complete. Run \"ollama\" from the command line.\n"
          ]
        }
      ]
    },
    {
      "cell_type": "code",
      "source": [
        "!screen -dmS ollama ollama serve"
      ],
      "metadata": {
        "id": "Rczlf_0Dp9b9"
      },
      "execution_count": 3,
      "outputs": []
    },
    {
      "cell_type": "code",
      "source": [
        "# Can take 5 minutes\n",
        "!ollama run hf.co/bartowski/Mistral-Small-24B-Instruct-2501-GGUF:Q4_K_S hello --verbose  2>&1 | grep -E \"([^0]0%|Bonjour|:)\""
      ],
      "metadata": {
        "id": "ivzgDLEuqEcI",
        "colab": {
          "base_uri": "https://localhost:8080/"
        },
        "outputId": "795dc8d7-fc66-4a3c-f123-010655168535"
      },
      "execution_count": 4,
      "outputs": [
        {
          "output_type": "stream",
          "name": "stdout",
          "text": [
            "pulling 919a8b31c63c...   0% ▕                ▏    0 B/ 13 GB                  \u001b[?25h\u001b[?25l\u001b[2K\u001b[1G\u001b[A\u001b[2K\u001b[1Gpulling manifest \n",
            "pulling 919a8b31c63c...   0% ▕                ▏    0 B/ 13 GB                  \u001b[?25h\u001b[?25l\u001b[2K\u001b[1G\u001b[A\u001b[2K\u001b[1Gpulling manifest \n",
            "pulling 919a8b31c63c...   0% ▕                ▏ 262 KB/ 13 GB                  \u001b[?25h\u001b[?25l\u001b[2K\u001b[1G\u001b[A\u001b[2K\u001b[1Gpulling manifest \n",
            "pulling 919a8b31c63c...   0% ▕                ▏  33 MB/ 13 GB                  \u001b[?25h\u001b[?25l\u001b[2K\u001b[1G\u001b[A\u001b[2K\u001b[1Gpulling manifest \n",
            "pulling 919a8b31c63c...   0% ▕                ▏  64 MB/ 13 GB                  \u001b[?25h\u001b[?25l\u001b[2K\u001b[1G\u001b[A\u001b[2K\u001b[1Gpulling manifest \n",
            "pulling 919a8b31c63c...  10% ▕█               ▏ 1.3 GB/ 13 GB  201 MB/s    1m0s\u001b[?25h\u001b[?25l\u001b[2K\u001b[1G\u001b[A\u001b[2K\u001b[1Gpulling manifest \n",
            "pulling 919a8b31c63c...  10% ▕█               ▏ 1.3 GB/ 13 GB  201 MB/s    1m0s\u001b[?25h\u001b[?25l\u001b[2K\u001b[1G\u001b[A\u001b[2K\u001b[1Gpulling manifest \n",
            "pulling 919a8b31c63c...  10% ▕█               ▏ 1.3 GB/ 13 GB  201 MB/s    1m0s\u001b[?25h\u001b[?25l\u001b[2K\u001b[1G\u001b[A\u001b[2K\u001b[1Gpulling manifest \n",
            "pulling 919a8b31c63c...  10% ▕█               ▏ 1.4 GB/ 13 GB  201 MB/s    1m0s\u001b[?25h\u001b[?25l\u001b[2K\u001b[1G\u001b[A\u001b[2K\u001b[1Gpulling manifest \n",
            "pulling 919a8b31c63c...  10% ▕█               ▏ 1.4 GB/ 13 GB  201 MB/s    1m0s\u001b[?25h\u001b[?25l\u001b[2K\u001b[1G\u001b[A\u001b[2K\u001b[1Gpulling manifest \n",
            "pulling 919a8b31c63c...  20% ▕███             ▏ 2.6 GB/ 13 GB  188 MB/s     57s\u001b[?25h\u001b[?25l\u001b[2K\u001b[1G\u001b[A\u001b[2K\u001b[1Gpulling manifest \n",
            "pulling 919a8b31c63c...  20% ▕███             ▏ 2.7 GB/ 13 GB  188 MB/s     57s\u001b[?25h\u001b[?25l\u001b[2K\u001b[1G\u001b[A\u001b[2K\u001b[1Gpulling manifest \n",
            "pulling 919a8b31c63c...  20% ▕███             ▏ 2.7 GB/ 13 GB  197 MB/s     55s\u001b[?25h\u001b[?25l\u001b[2K\u001b[1G\u001b[A\u001b[2K\u001b[1Gpulling manifest \n",
            "pulling 919a8b31c63c...  20% ▕███             ▏ 2.7 GB/ 13 GB  197 MB/s     54s\u001b[?25h\u001b[?25l\u001b[2K\u001b[1G\u001b[A\u001b[2K\u001b[1Gpulling manifest \n",
            "pulling 919a8b31c63c...  20% ▕███             ▏ 2.7 GB/ 13 GB  197 MB/s     54s\u001b[?25h\u001b[?25l\u001b[2K\u001b[1G\u001b[A\u001b[2K\u001b[1Gpulling manifest \n",
            "pulling 919a8b31c63c...  20% ▕███             ▏ 2.8 GB/ 13 GB  197 MB/s     54s\u001b[?25h\u001b[?25l\u001b[2K\u001b[1G\u001b[A\u001b[2K\u001b[1Gpulling manifest \n",
            "pulling 919a8b31c63c...  30% ▕████            ▏ 4.0 GB/ 13 GB  188 MB/s     50s\u001b[?25h\u001b[?25l\u001b[2K\u001b[1G\u001b[A\u001b[2K\u001b[1Gpulling manifest \n",
            "pulling 919a8b31c63c...  30% ▕████            ▏ 4.0 GB/ 13 GB  188 MB/s     50s\u001b[?25h\u001b[?25l\u001b[2K\u001b[1G\u001b[A\u001b[2K\u001b[1Gpulling manifest \n",
            "pulling 919a8b31c63c...  30% ▕████            ▏ 4.1 GB/ 13 GB  188 MB/s     50s\u001b[?25h\u001b[?25l\u001b[2K\u001b[1G\u001b[A\u001b[2K\u001b[1Gpulling manifest \n",
            "pulling 919a8b31c63c...  30% ▕████            ▏ 4.1 GB/ 13 GB  188 MB/s     50s\u001b[?25h\u001b[?25l\u001b[2K\u001b[1G\u001b[A\u001b[2K\u001b[1Gpulling manifest \n",
            "pulling 919a8b31c63c...  30% ▕████            ▏ 4.1 GB/ 13 GB  198 MB/s     47s\u001b[?25h\u001b[?25l\u001b[2K\u001b[1G\u001b[A\u001b[2K\u001b[1Gpulling manifest \n",
            "pulling 919a8b31c63c...  30% ▕████            ▏ 4.1 GB/ 13 GB  198 MB/s     47s\u001b[?25h\u001b[?25l\u001b[2K\u001b[1G\u001b[A\u001b[2K\u001b[1Gpulling manifest \n",
            "pulling 919a8b31c63c...  30% ▕████            ▏ 4.1 GB/ 13 GB  198 MB/s     47s\u001b[?25h\u001b[?25l\u001b[2K\u001b[1G\u001b[A\u001b[2K\u001b[1Gpulling manifest \n",
            "pulling 919a8b31c63c...  30% ▕████            ▏ 4.1 GB/ 13 GB  198 MB/s     47s\u001b[?25h\u001b[?25l\u001b[2K\u001b[1G\u001b[A\u001b[2K\u001b[1Gpulling manifest \n",
            "pulling 919a8b31c63c...  30% ▕████            ▏ 4.1 GB/ 13 GB  198 MB/s     47s\u001b[?25h\u001b[?25l\u001b[2K\u001b[1G\u001b[A\u001b[2K\u001b[1Gpulling manifest \n",
            "pulling 919a8b31c63c...  30% ▕████            ▏ 4.1 GB/ 13 GB  198 MB/s     47s\u001b[?25h\u001b[?25l\u001b[2K\u001b[1G\u001b[A\u001b[2K\u001b[1Gpulling manifest \n",
            "pulling 919a8b31c63c...  30% ▕████            ▏ 4.1 GB/ 13 GB  198 MB/s     47s\u001b[?25h\u001b[?25l\u001b[2K\u001b[1G\u001b[A\u001b[2K\u001b[1Gpulling manifest \n",
            "pulling 919a8b31c63c...  30% ▕████            ▏ 4.1 GB/ 13 GB  198 MB/s     47s\u001b[?25h\u001b[?25l\u001b[2K\u001b[1G\u001b[A\u001b[2K\u001b[1Gpulling manifest \n",
            "pulling 919a8b31c63c...  30% ▕████            ▏ 4.1 GB/ 13 GB  198 MB/s     47s\u001b[?25h\u001b[?25l\u001b[2K\u001b[1G\u001b[A\u001b[2K\u001b[1Gpulling manifest \n",
            "pulling 919a8b31c63c...  30% ▕████            ▏ 4.1 GB/ 13 GB  198 MB/s     47s\u001b[?25h\u001b[?25l\u001b[2K\u001b[1G\u001b[A\u001b[2K\u001b[1Gpulling manifest \n",
            "pulling 919a8b31c63c...  30% ▕████            ▏ 4.1 GB/ 13 GB  177 MB/s     53s\u001b[?25h\u001b[?25l\u001b[2K\u001b[1G\u001b[A\u001b[2K\u001b[1Gpulling manifest \n",
            "pulling 919a8b31c63c...  30% ▕████            ▏ 4.1 GB/ 13 GB  177 MB/s     53s\u001b[?25h\u001b[?25l\u001b[2K\u001b[1G\u001b[A\u001b[2K\u001b[1Gpulling manifest \n",
            "pulling 919a8b31c63c...  30% ▕████            ▏ 4.1 GB/ 13 GB  177 MB/s     53s\u001b[?25h\u001b[?25l\u001b[2K\u001b[1G\u001b[A\u001b[2K\u001b[1Gpulling manifest \n",
            "pulling 919a8b31c63c...  30% ▕████            ▏ 4.1 GB/ 13 GB  177 MB/s     53s\u001b[?25h\u001b[?25l\u001b[2K\u001b[1G\u001b[A\u001b[2K\u001b[1Gpulling manifest \n",
            "pulling 919a8b31c63c...  30% ▕████            ▏ 4.1 GB/ 13 GB  177 MB/s     53s\u001b[?25h\u001b[?25l\u001b[2K\u001b[1G\u001b[A\u001b[2K\u001b[1Gpulling manifest \n",
            "pulling 919a8b31c63c...  30% ▕████            ▏ 4.1 GB/ 13 GB  177 MB/s     53s\u001b[?25h\u001b[?25l\u001b[2K\u001b[1G\u001b[A\u001b[2K\u001b[1Gpulling manifest \n",
            "pulling 919a8b31c63c...  30% ▕████            ▏ 4.1 GB/ 13 GB  177 MB/s     53s\u001b[?25h\u001b[?25l\u001b[2K\u001b[1G\u001b[A\u001b[2K\u001b[1Gpulling manifest \n",
            "pulling 919a8b31c63c...  30% ▕████            ▏ 4.1 GB/ 13 GB  177 MB/s     53s\u001b[?25h\u001b[?25l\u001b[2K\u001b[1G\u001b[A\u001b[2K\u001b[1Gpulling manifest \n",
            "pulling 919a8b31c63c...  30% ▕████            ▏ 4.1 GB/ 13 GB  177 MB/s     53s\u001b[?25h\u001b[?25l\u001b[2K\u001b[1G\u001b[A\u001b[2K\u001b[1Gpulling manifest \n",
            "pulling 919a8b31c63c...  30% ▕████            ▏ 4.1 GB/ 13 GB  177 MB/s     53s\u001b[?25h\u001b[?25l\u001b[2K\u001b[1G\u001b[A\u001b[2K\u001b[1Gpulling manifest \n",
            "pulling 919a8b31c63c...  40% ▕██████          ▏ 5.4 GB/ 13 GB  169 MB/s     48s\u001b[?25h\u001b[?25l\u001b[2K\u001b[1G\u001b[A\u001b[2K\u001b[1Gpulling manifest \n",
            "pulling 919a8b31c63c...  40% ▕██████          ▏ 5.4 GB/ 13 GB  169 MB/s     48s\u001b[?25h\u001b[?25l\u001b[2K\u001b[1G\u001b[A\u001b[2K\u001b[1Gpulling manifest \n",
            "pulling 919a8b31c63c...  40% ▕██████          ▏ 5.4 GB/ 13 GB  169 MB/s     47s\u001b[?25h\u001b[?25l\u001b[2K\u001b[1G\u001b[A\u001b[2K\u001b[1Gpulling manifest \n",
            "pulling 919a8b31c63c...  40% ▕██████          ▏ 5.4 GB/ 13 GB  169 MB/s     47s\u001b[?25h\u001b[?25l\u001b[2K\u001b[1G\u001b[A\u001b[2K\u001b[1Gpulling manifest \n",
            "pulling 919a8b31c63c...  40% ▕██████          ▏ 5.4 GB/ 13 GB  169 MB/s     47s\u001b[?25h\u001b[?25l\u001b[2K\u001b[1G\u001b[A\u001b[2K\u001b[1Gpulling manifest \n",
            "pulling 919a8b31c63c...  40% ▕██████          ▏ 5.5 GB/ 13 GB  169 MB/s     47s\u001b[?25h\u001b[?25l\u001b[2K\u001b[1G\u001b[A\u001b[2K\u001b[1Gpulling manifest \n",
            "pulling 919a8b31c63c...  50% ▕███████         ▏ 6.7 GB/ 13 GB  228 MB/s     29s\u001b[?25h\u001b[?25l\u001b[2K\u001b[1G\u001b[A\u001b[2K\u001b[1Gpulling manifest \n",
            "pulling 919a8b31c63c...  50% ▕███████         ▏ 6.7 GB/ 13 GB  228 MB/s     29s\u001b[?25h\u001b[?25l\u001b[2K\u001b[1G\u001b[A\u001b[2K\u001b[1Gpulling manifest \n",
            "pulling 919a8b31c63c...  50% ▕███████         ▏ 6.8 GB/ 13 GB  228 MB/s     29s\u001b[?25h\u001b[?25l\u001b[2K\u001b[1G\u001b[A\u001b[2K\u001b[1Gpulling manifest \n",
            "pulling 919a8b31c63c...  50% ▕████████        ▏ 6.8 GB/ 13 GB  232 MB/s     29s\u001b[?25h\u001b[?25l\u001b[2K\u001b[1G\u001b[A\u001b[2K\u001b[1Gpulling manifest \n",
            "pulling 919a8b31c63c...  50% ▕████████        ▏ 6.8 GB/ 13 GB  232 MB/s     29s\u001b[?25h\u001b[?25l\u001b[2K\u001b[1G\u001b[A\u001b[2K\u001b[1Gpulling manifest \n",
            "pulling 919a8b31c63c...  50% ▕████████        ▏ 6.8 GB/ 13 GB  232 MB/s     28s\u001b[?25h\u001b[?25l\u001b[2K\u001b[1G\u001b[A\u001b[2K\u001b[1Gpulling manifest \n",
            "pulling 919a8b31c63c...  50% ▕████████        ▏ 6.8 GB/ 13 GB  232 MB/s     28s\u001b[?25h\u001b[?25l\u001b[2K\u001b[1G\u001b[A\u001b[2K\u001b[1Gpulling manifest \n",
            "pulling 919a8b31c63c...  60% ▕█████████       ▏ 8.1 GB/ 13 GB  236 MB/s     23s\u001b[?25h\u001b[?25l\u001b[2K\u001b[1G\u001b[A\u001b[2K\u001b[1Gpulling manifest \n",
            "pulling 919a8b31c63c...  60% ▕█████████       ▏ 8.1 GB/ 13 GB  236 MB/s     23s\u001b[?25h\u001b[?25l\u001b[2K\u001b[1G\u001b[A\u001b[2K\u001b[1Gpulling manifest \n",
            "pulling 919a8b31c63c...  60% ▕█████████       ▏ 8.1 GB/ 13 GB  236 MB/s     23s\u001b[?25h\u001b[?25l\u001b[2K\u001b[1G\u001b[A\u001b[2K\u001b[1Gpulling manifest \n",
            "pulling 919a8b31c63c...  60% ▕█████████       ▏ 8.1 GB/ 13 GB  232 MB/s     23s\u001b[?25h\u001b[?25l\u001b[2K\u001b[1G\u001b[A\u001b[2K\u001b[1Gpulling manifest \n",
            "pulling 919a8b31c63c...  60% ▕█████████       ▏ 8.1 GB/ 13 GB  232 MB/s     23s\u001b[?25h\u001b[?25l\u001b[2K\u001b[1G\u001b[A\u001b[2K\u001b[1Gpulling manifest \n",
            "pulling 919a8b31c63c...  60% ▕█████████       ▏ 8.1 GB/ 13 GB  232 MB/s     23s\u001b[?25h\u001b[?25l\u001b[2K\u001b[1G\u001b[A\u001b[2K\u001b[1Gpulling manifest \n",
            "pulling 919a8b31c63c...  60% ▕█████████       ▏ 8.1 GB/ 13 GB  232 MB/s     23s\u001b[?25h\u001b[?25l\u001b[2K\u001b[1G\u001b[A\u001b[2K\u001b[1Gpulling manifest \n",
            "pulling 919a8b31c63c...  60% ▕█████████       ▏ 8.2 GB/ 13 GB  232 MB/s     23s\u001b[?25h\u001b[?25l\u001b[2K\u001b[1G\u001b[A\u001b[2K\u001b[1Gpulling manifest \n",
            "pulling 919a8b31c63c...  60% ▕█████████       ▏ 8.2 GB/ 13 GB  232 MB/s     23s\u001b[?25h\u001b[?25l\u001b[2K\u001b[1G\u001b[A\u001b[2K\u001b[1Gpulling manifest \n",
            "pulling 919a8b31c63c...  60% ▕█████████       ▏ 8.2 GB/ 13 GB  232 MB/s     23s\u001b[?25h\u001b[?25l\u001b[2K\u001b[1G\u001b[A\u001b[2K\u001b[1Gpulling manifest \n",
            "pulling 919a8b31c63c...  70% ▕███████████     ▏ 9.4 GB/ 13 GB  142 MB/s     29s\u001b[?25h\u001b[?25l\u001b[2K\u001b[1G\u001b[A\u001b[2K\u001b[1Gpulling manifest \n",
            "pulling 919a8b31c63c...  70% ▕███████████     ▏ 9.5 GB/ 13 GB  142 MB/s     28s\u001b[?25h\u001b[?25l\u001b[2K\u001b[1G\u001b[A\u001b[2K\u001b[1Gpulling manifest \n",
            "pulling 919a8b31c63c...  70% ▕███████████     ▏ 9.5 GB/ 13 GB  142 MB/s     28s\u001b[?25h\u001b[?25l\u001b[2K\u001b[1G\u001b[A\u001b[2K\u001b[1Gpulling manifest \n",
            "pulling 919a8b31c63c...  70% ▕███████████     ▏ 9.5 GB/ 13 GB  142 MB/s     28s\u001b[?25h\u001b[?25l\u001b[2K\u001b[1G\u001b[A\u001b[2K\u001b[1Gpulling manifest \n",
            "pulling 919a8b31c63c...  70% ▕███████████     ▏ 9.5 GB/ 13 GB  142 MB/s     28s\u001b[?25h\u001b[?25l\u001b[2K\u001b[1G\u001b[A\u001b[2K\u001b[1Gpulling manifest \n",
            "pulling 919a8b31c63c...  80% ▕████████████    ▏  10 GB/ 13 GB  189 MB/s     14s\u001b[?25h\u001b[?25l\u001b[2K\u001b[1G\u001b[A\u001b[2K\u001b[1Gpulling manifest \n",
            "pulling 919a8b31c63c...  80% ▕████████████    ▏  10 GB/ 13 GB  201 MB/s     13s\u001b[?25h\u001b[?25l\u001b[2K\u001b[1G\u001b[A\u001b[2K\u001b[1Gpulling manifest \n",
            "pulling 919a8b31c63c...  80% ▕████████████    ▏  10 GB/ 13 GB  201 MB/s     13s\u001b[?25h\u001b[?25l\u001b[2K\u001b[1G\u001b[A\u001b[2K\u001b[1Gpulling manifest \n",
            "pulling 919a8b31c63c...  80% ▕████████████    ▏  10 GB/ 13 GB  201 MB/s     13s\u001b[?25h\u001b[?25l\u001b[2K\u001b[1G\u001b[A\u001b[2K\u001b[1Gpulling manifest \n",
            "pulling 919a8b31c63c...  80% ▕████████████    ▏  10 GB/ 13 GB  201 MB/s     13s\u001b[?25h\u001b[?25l\u001b[2K\u001b[1G\u001b[A\u001b[2K\u001b[1Gpulling manifest \n",
            "pulling 919a8b31c63c...  80% ▕████████████    ▏  10 GB/ 13 GB  201 MB/s     13s\u001b[?25h\u001b[?25l\u001b[2K\u001b[1G\u001b[A\u001b[2K\u001b[1Gpulling manifest \n",
            "pulling 919a8b31c63c...  90% ▕██████████████  ▏  12 GB/ 13 GB  264 MB/s      5s\u001b[?25h\u001b[?25l\u001b[2K\u001b[1G\u001b[A\u001b[2K\u001b[1Gpulling manifest \n",
            "pulling 919a8b31c63c...  90% ▕██████████████  ▏  12 GB/ 13 GB  264 MB/s      5s\u001b[?25h\u001b[?25l\u001b[2K\u001b[1G\u001b[A\u001b[2K\u001b[1Gpulling manifest \n",
            "pulling 919a8b31c63c...  90% ▕██████████████  ▏  12 GB/ 13 GB  264 MB/s      5s\u001b[?25h\u001b[?25l\u001b[2K\u001b[1G\u001b[A\u001b[2K\u001b[1Gpulling manifest \n",
            "pulling 919a8b31c63c...  90% ▕██████████████  ▏  12 GB/ 13 GB  264 MB/s      5s\u001b[?25h\u001b[?25l\u001b[2K\u001b[1G\u001b[A\u001b[2K\u001b[1Gpulling manifest \n",
            "pulling 919a8b31c63c...  90% ▕██████████████  ▏  12 GB/ 13 GB  264 MB/s      4s\u001b[?25h\u001b[?25l\u001b[2K\u001b[1G\u001b[A\u001b[2K\u001b[1Gpulling manifest \n",
            "pulling 919a8b31c63c...  90% ▕██████████████  ▏  12 GB/ 13 GB  264 MB/s      4s\u001b[?25h\u001b[?25l\u001b[2K\u001b[1G\u001b[A\u001b[2K\u001b[1Gpulling manifest \n",
            "pulling c43332387573...   0% ▕                ▏    0 B/  67 B                  \u001b[?25h\u001b[?25l\u001b[2K\u001b[1G\u001b[A\u001b[2K\u001b[1G\u001b[A\u001b[2K\u001b[1Gpulling manifest \n",
            "pulling c43332387573...   0% ▕                ▏    0 B/  67 B                  \u001b[?25h\u001b[?25l\u001b[2K\u001b[1G\u001b[A\u001b[2K\u001b[1G\u001b[A\u001b[2K\u001b[1Gpulling manifest \n",
            "pulling c43332387573...   0% ▕                ▏    0 B/  67 B                  \u001b[?25h\u001b[?25l\u001b[2K\u001b[1G\u001b[A\u001b[2K\u001b[1G\u001b[A\u001b[2K\u001b[1Gpulling manifest \n",
            "pulling c43332387573...   0% ▕                ▏    0 B/  67 B                  \u001b[?25h\u001b[?25l\u001b[2K\u001b[1G\u001b[A\u001b[2K\u001b[1G\u001b[A\u001b[2K\u001b[1Gpulling manifest \n",
            "pulling c43332387573...   0% ▕                ▏    0 B/  67 B                  \u001b[?25h\u001b[?25l\u001b[2K\u001b[1G\u001b[A\u001b[2K\u001b[1G\u001b[A\u001b[2K\u001b[1Gpulling manifest \n",
            "pulling c43332387573...   0% ▕                ▏    0 B/  67 B                  \u001b[?25h\u001b[?25l\u001b[2K\u001b[1G\u001b[A\u001b[2K\u001b[1G\u001b[A\u001b[2K\u001b[1Gpulling manifest \n",
            "pulling 7113dc2fd1dd...   0% ▕                ▏    0 B/  29 B                  \u001b[?25h\u001b[?25l\u001b[2K\u001b[1G\u001b[A\u001b[2K\u001b[1G\u001b[A\u001b[2K\u001b[1G\u001b[A\u001b[2K\u001b[1Gpulling manifest \n",
            "pulling 7113dc2fd1dd...   0% ▕                ▏    0 B/  29 B                  \u001b[?25h\u001b[?25l\u001b[2K\u001b[1G\u001b[A\u001b[2K\u001b[1G\u001b[A\u001b[2K\u001b[1G\u001b[A\u001b[2K\u001b[1Gpulling manifest \n",
            "pulling 7113dc2fd1dd...   0% ▕                ▏    0 B/  29 B                  \u001b[?25h\u001b[?25l\u001b[2K\u001b[1G\u001b[A\u001b[2K\u001b[1G\u001b[A\u001b[2K\u001b[1G\u001b[A\u001b[2K\u001b[1Gpulling manifest \n",
            "pulling 7113dc2fd1dd...   0% ▕                ▏    0 B/  29 B                  \u001b[?25h\u001b[?25l\u001b[2K\u001b[1G\u001b[A\u001b[2K\u001b[1G\u001b[A\u001b[2K\u001b[1G\u001b[A\u001b[2K\u001b[1Gpulling manifest \n",
            "pulling 7113dc2fd1dd...   0% ▕                ▏    0 B/  29 B                  \u001b[?25h\u001b[?25l\u001b[2K\u001b[1G\u001b[A\u001b[2K\u001b[1G\u001b[A\u001b[2K\u001b[1G\u001b[A\u001b[2K\u001b[1Gpulling manifest \n",
            "pulling 6d03bf5500a2...   0% ▕                ▏    0 B/ 193 B                  \u001b[?25h\u001b[?25l\u001b[2K\u001b[1G\u001b[A\u001b[2K\u001b[1G\u001b[A\u001b[2K\u001b[1G\u001b[A\u001b[2K\u001b[1G\u001b[A\u001b[2K\u001b[1Gpulling manifest \n",
            "pulling 6d03bf5500a2...   0% ▕                ▏    0 B/ 193 B                  \u001b[?25h\u001b[?25l\u001b[2K\u001b[1G\u001b[A\u001b[2K\u001b[1G\u001b[A\u001b[2K\u001b[1G\u001b[A\u001b[2K\u001b[1G\u001b[A\u001b[2K\u001b[1Gpulling manifest \n",
            "pulling 6d03bf5500a2...   0% ▕                ▏    0 B/ 193 B                  \u001b[?25h\u001b[?25l\u001b[2K\u001b[1G\u001b[A\u001b[2K\u001b[1G\u001b[A\u001b[2K\u001b[1G\u001b[A\u001b[2K\u001b[1G\u001b[A\u001b[2K\u001b[1Gpulling manifest \n",
            "pulling 6d03bf5500a2...   0% ▕                ▏    0 B/ 193 B                  \u001b[?25h\u001b[?25l\u001b[2K\u001b[1G\u001b[A\u001b[2K\u001b[1G\u001b[A\u001b[2K\u001b[1G\u001b[A\u001b[2K\u001b[1G\u001b[A\u001b[2K\u001b[1Gpulling manifest \n",
            "total duration:       1m2.951743505s\n",
            "load duration:        55.307607651s\n",
            "prompt eval count:    5 token(s)\n",
            "prompt eval duration: 739ms\n",
            "prompt eval rate:     6.77 tokens/s\n",
            "eval count:           70 token(s)\n",
            "eval duration:        6.903s\n",
            "eval rate:            10.14 tokens/s\n"
          ]
        }
      ]
    },
    {
      "cell_type": "code",
      "execution_count": 5,
      "metadata": {
        "id": "onr1w8jbEcby",
        "colab": {
          "base_uri": "https://localhost:8080/"
        },
        "outputId": "d369ff9b-0ffd-44c3-d715-26fed950427f"
      },
      "outputs": [
        {
          "output_type": "stream",
          "name": "stdout",
          "text": [
            "Collecting OpenHosta\n",
            "  Downloading OpenHosta-2.1.5-py3-none-any.whl.metadata (7.5 kB)\n",
            "Requirement already satisfied: requests>=2.32.3 in /usr/local/lib/python3.11/dist-packages (from OpenHosta) (2.32.3)\n",
            "Requirement already satisfied: typing_extensions>=4.12.2 in /usr/local/lib/python3.11/dist-packages (from OpenHosta) (4.12.2)\n",
            "Requirement already satisfied: charset-normalizer<4,>=2 in /usr/local/lib/python3.11/dist-packages (from requests>=2.32.3->OpenHosta) (3.4.1)\n",
            "Requirement already satisfied: idna<4,>=2.5 in /usr/local/lib/python3.11/dist-packages (from requests>=2.32.3->OpenHosta) (3.10)\n",
            "Requirement already satisfied: urllib3<3,>=1.21.1 in /usr/local/lib/python3.11/dist-packages (from requests>=2.32.3->OpenHosta) (2.3.0)\n",
            "Requirement already satisfied: certifi>=2017.4.17 in /usr/local/lib/python3.11/dist-packages (from requests>=2.32.3->OpenHosta) (2024.12.14)\n",
            "Downloading OpenHosta-2.1.5-py3-none-any.whl (60 kB)\n",
            "\u001b[?25l   \u001b[90m━━━━━━━━━━━━━━━━━━━━━━━━━━━━━━━━━━━━━━━━\u001b[0m \u001b[32m0.0/60.8 kB\u001b[0m \u001b[31m?\u001b[0m eta \u001b[36m-:--:--\u001b[0m\r\u001b[2K   \u001b[90m━━━━━━━━━━━━━━━━━━━━━━━━━━━━━━━━━━━━━━━━\u001b[0m \u001b[32m60.8/60.8 kB\u001b[0m \u001b[31m3.4 MB/s\u001b[0m eta \u001b[36m0:00:00\u001b[0m\n",
            "\u001b[?25hInstalling collected packages: OpenHosta\n",
            "Successfully installed OpenHosta-2.1.5\n"
          ]
        }
      ],
      "source": [
        "!pip install OpenHosta"
      ]
    },
    {
      "cell_type": "markdown",
      "source": [
        "## Basic Usage of OpenHosta"
      ],
      "metadata": {
        "id": "0x6AUM3osYK2"
      }
    },
    {
      "cell_type": "markdown",
      "source": [
        "### Configure the LLM that you want to use"
      ],
      "metadata": {
        "id": "1ZEB71Ytsk4B"
      }
    },
    {
      "cell_type": "code",
      "source": [
        "from OpenHosta import config\n",
        "\n",
        "# Use Mistral-Small-24B (2025 Jannuary) through ollama\n",
        "my_model=config.Model(\n",
        "    base_url=\"http://localhost:11434/v1/chat/completions\",\n",
        "    model=\"hf.co/bartowski/Mistral-Small-24B-Instruct-2501-GGUF:Q4_K_S\", api_key=\"none\", timeout=120\n",
        ")\n",
        "config.set_default_model(my_model)\n"
      ],
      "metadata": {
        "id": "SBC5-L0zqH1c"
      },
      "execution_count": 6,
      "outputs": []
    },
    {
      "cell_type": "markdown",
      "source": [
        "### Emulate functions using the seleted LLM"
      ],
      "metadata": {
        "id": "FauFveKWsp3G"
      }
    },
    {
      "cell_type": "code",
      "source": [],
      "metadata": {
        "id": "6fQgQvOGbeXq"
      },
      "execution_count": null,
      "outputs": []
    },
    {
      "cell_type": "code",
      "source": [
        "from OpenHosta import emulate"
      ],
      "metadata": {
        "id": "SEpo1gfJT8Bg"
      },
      "execution_count": 7,
      "outputs": []
    },
    {
      "cell_type": "code",
      "source": [
        "def translate(text:str, language:str)->str:\n",
        "    \"\"\"\n",
        "    This function translates the text in the “text” parameter into the language specified in the “language” parameter.\n",
        "    \"\"\"\n",
        "    return emulate()\n",
        "\n",
        "result = translate(\"Hello World!\", \"French\")\n",
        "print(result)"
      ],
      "metadata": {
        "id": "gE1ecyDzUVFE",
        "colab": {
          "base_uri": "https://localhost:8080/"
        },
        "outputId": "942765b8-753a-4559-eb4e-9b3a2f7a5d9f"
      },
      "execution_count": 15,
      "outputs": [
        {
          "output_type": "stream",
          "name": "stdout",
          "text": [
            "Bonjour le monde!\n"
          ]
        }
      ]
    },
    {
      "cell_type": "code",
      "source": [
        "def find_name_age(sentence:str, id:dict)->dict:\n",
        "    \"\"\"\n",
        "    This function find in a text the name and the age of a personn.\n",
        "\n",
        "    Args:\n",
        "        sentence: The text in which to search for information\n",
        "        id: The dictionary to fill in with information\n",
        "\n",
        "    Return:\n",
        "        A dictionary identical to the one passed in parameter, but filled with the information.\n",
        "        If the information is not found, fill with the values with “None”.\n",
        "    \"\"\"\n",
        "    return emulate(model=my_model)\n",
        "\n",
        "return_dict = {\"name\": \"\", \"age\": \"\"}\n",
        "result = find_name_age(\"Hello, I'm John Wick, i'm 30 and I live in New York\", return_dict)\n",
        "print(result)"
      ],
      "metadata": {
        "id": "I_AJQzoKU192",
        "colab": {
          "base_uri": "https://localhost:8080/"
        },
        "outputId": "f6a3877e-1f15-447b-9c72-132afedbeac2"
      },
      "execution_count": 16,
      "outputs": [
        {
          "output_type": "stream",
          "name": "stdout",
          "text": [
            "{'name': 'John Wick', 'age': '30'}\n"
          ]
        }
      ]
    },
    {
      "cell_type": "markdown",
      "source": [
        "### Specify advanced return types"
      ],
      "metadata": {
        "id": "bVuS-CC6szQM"
      }
    },
    {
      "cell_type": "code",
      "source": [
        "from typing import Dict, Tuple, List\n",
        "\n",
        "def analyze_text(text: str) -> Dict[str, List[Tuple[int, str]]]:\n",
        "    \"\"\"Analyze text to map each word to a list of tuples containing word length and word.\"\"\"\n",
        "    return emulate()\n",
        "\n",
        "# Example usage\n",
        "analysis = analyze_text(\"Hello, World!\")\n",
        "\n",
        "print(analysis)\n",
        "print(type(analysis))"
      ],
      "metadata": {
        "id": "GXiKTdYm_GGp",
        "colab": {
          "base_uri": "https://localhost:8080/"
        },
        "outputId": "b327ba71-e77a-4d05-e249-a5ca59af1fa4"
      },
      "execution_count": 13,
      "outputs": [
        {
          "output_type": "stream",
          "name": "stdout",
          "text": [
            "{'Hello': [[5, 'Hello']], 'World!': [7, 'World!']}\n",
            "<class 'dict'>\n"
          ]
        }
      ]
    },
    {
      "cell_type": "markdown",
      "source": [
        "### Specify pydantic return strucures\n",
        "\n",
        "OpenHosta is compatible with pydantic. You can specify pydantic input and output types and OpenHosta will propagate schema and Field documentation to the LLM."
      ],
      "metadata": {
        "id": "R5qFAS06s7Eq"
      }
    },
    {
      "cell_type": "code",
      "source": [
        "!pip install pydantic"
      ],
      "metadata": {
        "id": "-w2PyozHrklT",
        "colab": {
          "base_uri": "https://localhost:8080/"
        },
        "outputId": "88ea7543-5477-4f00-aeaf-7887684b3533"
      },
      "execution_count": 17,
      "outputs": [
        {
          "output_type": "stream",
          "name": "stdout",
          "text": [
            "Requirement already satisfied: pydantic in /usr/local/lib/python3.11/dist-packages (2.10.6)\n",
            "Requirement already satisfied: annotated-types>=0.6.0 in /usr/local/lib/python3.11/dist-packages (from pydantic) (0.7.0)\n",
            "Requirement already satisfied: pydantic-core==2.27.2 in /usr/local/lib/python3.11/dist-packages (from pydantic) (2.27.2)\n",
            "Requirement already satisfied: typing-extensions>=4.12.2 in /usr/local/lib/python3.11/dist-packages (from pydantic) (4.12.2)\n"
          ]
        }
      ]
    },
    {
      "cell_type": "code",
      "source": [
        "from pydantic import BaseModel, Field\n",
        "\n",
        "class Personn(BaseModel):\n",
        "    name: str = Field(..., description = \"The full name\")\n",
        "    age: int\n",
        "\n",
        "def find_name_age_pydantic(sentence:str)->Personn:\n",
        "    \"\"\"\n",
        "    This function find in a text the name and the age of a personn.\n",
        "\n",
        "    Args:\n",
        "        sentence: The text in which to search for information\n",
        "\n",
        "    Return:\n",
        "        A Pydantic model, but filled with the information.\n",
        "        If the information is not found, fill with the values with “None”.\n",
        "    \"\"\"\n",
        "    return emulate()\n",
        "\n",
        "result = find_name_age_pydantic(\"Luke Skywalker is very surprising: he's only 27 when he becomes a Jedi.\")\n",
        "print(result)"
      ],
      "metadata": {
        "id": "wnn5ed4QWXYs",
        "colab": {
          "base_uri": "https://localhost:8080/"
        },
        "outputId": "4cb35ea6-ed13-487e-81c6-abbab4c44d54"
      },
      "execution_count": 18,
      "outputs": [
        {
          "output_type": "stream",
          "name": "stdout",
          "text": [
            "name='Luke Skywalker' age=27\n"
          ]
        }
      ]
    },
    {
      "cell_type": "markdown",
      "source": [
        "### Limitations\n",
        "\n",
        "The emulation is limited by the LLM capabilities. Try to have it count r in strawberrry and you will get into troubles ;-).\n",
        "Make sure the LLM is capable and not alucinating before you implement an emulated function."
      ],
      "metadata": {
        "id": "VvcHBChjtyys"
      }
    },
    {
      "cell_type": "code",
      "source": [
        "def find_occurence_of_a_word(word :str, text: str) -> int:\n",
        "    \"\"\"\n",
        "    This function takes a word and a text and returns\n",
        "    the number of times the word appears in the text.\n",
        "    \"\"\"\n",
        "    return emulate()\n",
        "\n",
        "find_occurence_of_a_word(\"Hello\", \"Hello World Hello!\")\n"
      ],
      "metadata": {
        "id": "E5eTPiUyXjXR",
        "colab": {
          "base_uri": "https://localhost:8080/"
        },
        "outputId": "36a45250-476f-4b36-83dd-0feb41309300"
      },
      "execution_count": 19,
      "outputs": [
        {
          "output_type": "execute_result",
          "data": {
            "text/plain": [
              "2"
            ]
          },
          "metadata": {},
          "execution_count": 19
        }
      ]
    }
  ]
}