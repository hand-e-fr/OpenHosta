{
  "nbformat": 4,
  "nbformat_minor": 0,
  "metadata": {
    "colab": {
      "provenance": [],
      "gpuType": "T4",
      "include_colab_link": true
    },
    "kernelspec": {
      "name": "python3",
      "display_name": "Python 3"
    },
    "language_info": {
      "name": "python"
    },
    "accelerator": "GPU"
  },
  "cells": [
    {
      "cell_type": "markdown",
      "metadata": {
        "id": "view-in-github",
        "colab_type": "text"
      },
      "source": [
        "<a href=\"https://colab.research.google.com/github/hand-e-fr/OpenHosta/blob/doc/docs/openhosta_mistral_small.ipynb\" target=\"_parent\"><img src=\"https://colab.research.google.com/assets/colab-badge.svg\" alt=\"Open In Colab\"/></a>"
      ]
    },
    {
      "cell_type": "markdown",
      "source": [
        "# OpenHosta basic example with a Local Mistral-Small\n",
        "\n",
        "This colab demonstrate simple use cases of OpenHosta. If you do not have an OpenAI (or other) API KEY, you can run the first part **Install a local Mistral-Small**. Otherwise, directly jump to step 2: **Basic Usage**."
      ],
      "metadata": {
        "id": "2ywSpiksruBs"
      }
    },
    {
      "cell_type": "markdown",
      "source": [
        "## Install a local model (qwen-coder or Mistral-Small)"
      ],
      "metadata": {
        "id": "1DjZKsvksUPf"
      }
    },
    {
      "cell_type": "code",
      "source": [
        "!apt install -y screen"
      ],
      "metadata": {
        "id": "5NCvoTi3phgq",
        "colab": {
          "base_uri": "https://localhost:8080/"
        },
        "outputId": "23378c93-a0c4-4cb1-88bb-34e5b96625fe"
      },
      "execution_count": 1,
      "outputs": [
        {
          "output_type": "stream",
          "name": "stdout",
          "text": [
            "Reading package lists... Done\n",
            "Building dependency tree... Done\n",
            "Reading state information... Done\n",
            "Suggested packages:\n",
            "  byobu | screenie | iselect ncurses-term\n",
            "The following NEW packages will be installed:\n",
            "  screen\n",
            "0 upgraded, 1 newly installed, 0 to remove and 19 not upgraded.\n",
            "Need to get 672 kB of archives.\n",
            "After this operation, 1,029 kB of additional disk space will be used.\n",
            "Get:1 http://archive.ubuntu.com/ubuntu jammy/main amd64 screen amd64 4.9.0-1 [672 kB]\n",
            "Fetched 672 kB in 1s (849 kB/s)\n",
            "Selecting previously unselected package screen.\n",
            "(Reading database ... 124926 files and directories currently installed.)\n",
            "Preparing to unpack .../screen_4.9.0-1_amd64.deb ...\n",
            "Unpacking screen (4.9.0-1) ...\n",
            "Setting up screen (4.9.0-1) ...\n",
            "Processing triggers for man-db (2.10.2-1) ...\n"
          ]
        }
      ]
    },
    {
      "cell_type": "code",
      "source": [
        "!curl -fsSL https://ollama.com/install.sh | sh"
      ],
      "metadata": {
        "id": "dPQ1TFFGp4_w",
        "colab": {
          "base_uri": "https://localhost:8080/"
        },
        "outputId": "d51c9920-b33b-40d5-d924-a7f047292681"
      },
      "execution_count": 2,
      "outputs": [
        {
          "output_type": "stream",
          "name": "stdout",
          "text": [
            ">>> Installing ollama to /usr/local\n",
            ">>> Downloading Linux amd64 bundle\n",
            "############################################################################################# 100.0%\n",
            ">>> Creating ollama user...\n",
            ">>> Adding ollama user to video group...\n",
            ">>> Adding current user to ollama group...\n",
            ">>> Creating ollama systemd service...\n",
            "\u001b[1m\u001b[31mWARNING:\u001b[m systemd is not running\n",
            "\u001b[1m\u001b[31mWARNING:\u001b[m Unable to detect NVIDIA/AMD GPU. Install lspci or lshw to automatically detect and install GPU dependencies.\n",
            ">>> The Ollama API is now available at 127.0.0.1:11434.\n",
            ">>> Install complete. Run \"ollama\" from the command line.\n"
          ]
        }
      ]
    },
    {
      "cell_type": "code",
      "source": [
        "!screen -dmS ollama ollama serve"
      ],
      "metadata": {
        "id": "Rczlf_0Dp9b9"
      },
      "execution_count": 3,
      "outputs": []
    },
    {
      "cell_type": "code",
      "source": [
        "!ollama run qwen2.5-coder:3b hello --verbose  2>&1 | grep -E \":\"\n",
        "# Can take 5 minutes\n",
        "#!ollama run hf.co/bartowski/Mistral-Small-24B-Instruct-2501-GGUF:Q4_K_S hello --verbose  2>&1 | grep -E \"([^0]0%|Bonjour|:)\""
      ],
      "metadata": {
        "id": "ivzgDLEuqEcI",
        "colab": {
          "base_uri": "https://localhost:8080/"
        },
        "outputId": "65017adc-a6ae-49a7-b7c4-e30330158df5"
      },
      "execution_count": 26,
      "outputs": [
        {
          "output_type": "stream",
          "name": "stdout",
          "text": [
            "total duration:       5.399114828s\n",
            "load duration:        4.383579896s\n",
            "prompt eval count:    30 token(s)\n",
            "prompt eval duration: 559ms\n",
            "prompt eval rate:     53.67 tokens/s\n",
            "eval count:           22 token(s)\n",
            "eval duration:        454ms\n",
            "eval rate:            48.46 tokens/s\n"
          ]
        }
      ]
    },
    {
      "cell_type": "code",
      "execution_count": 6,
      "metadata": {
        "id": "onr1w8jbEcby",
        "colab": {
          "base_uri": "https://localhost:8080/"
        },
        "outputId": "ffed33d8-21c9-479d-95d4-519945993aff"
      },
      "outputs": [
        {
          "output_type": "stream",
          "name": "stdout",
          "text": [
            "Collecting OpenHosta\n",
            "  Downloading OpenHosta-2.2.1-py3-none-any.whl.metadata (8.4 kB)\n",
            "Requirement already satisfied: requests>=2.32.3 in /usr/local/lib/python3.11/dist-packages (from OpenHosta) (2.32.3)\n",
            "Requirement already satisfied: typing_extensions>=4.12.2 in /usr/local/lib/python3.11/dist-packages (from OpenHosta) (4.12.2)\n",
            "Requirement already satisfied: jinja2>=3.1.5 in /usr/local/lib/python3.11/dist-packages (from OpenHosta) (3.1.5)\n",
            "Requirement already satisfied: MarkupSafe>=2.0 in /usr/local/lib/python3.11/dist-packages (from jinja2>=3.1.5->OpenHosta) (3.0.2)\n",
            "Requirement already satisfied: charset-normalizer<4,>=2 in /usr/local/lib/python3.11/dist-packages (from requests>=2.32.3->OpenHosta) (3.4.1)\n",
            "Requirement already satisfied: idna<4,>=2.5 in /usr/local/lib/python3.11/dist-packages (from requests>=2.32.3->OpenHosta) (3.10)\n",
            "Requirement already satisfied: urllib3<3,>=1.21.1 in /usr/local/lib/python3.11/dist-packages (from requests>=2.32.3->OpenHosta) (2.3.0)\n",
            "Requirement already satisfied: certifi>=2017.4.17 in /usr/local/lib/python3.11/dist-packages (from requests>=2.32.3->OpenHosta) (2025.1.31)\n",
            "Downloading OpenHosta-2.2.1-py3-none-any.whl (61 kB)\n",
            "\u001b[2K   \u001b[90m━━━━━━━━━━━━━━━━━━━━━━━━━━━━━━━━━━━━━━━━\u001b[0m \u001b[32m61.6/61.6 kB\u001b[0m \u001b[31m3.8 MB/s\u001b[0m eta \u001b[36m0:00:00\u001b[0m\n",
            "\u001b[?25hInstalling collected packages: OpenHosta\n",
            "Successfully installed OpenHosta-2.2.1\n"
          ]
        }
      ],
      "source": [
        "!pip install OpenHosta"
      ]
    },
    {
      "cell_type": "markdown",
      "source": [
        "## Basic Usage of OpenHosta"
      ],
      "metadata": {
        "id": "0x6AUM3osYK2"
      }
    },
    {
      "cell_type": "markdown",
      "source": [
        "### Configure the LLM that you want to use"
      ],
      "metadata": {
        "id": "1ZEB71Ytsk4B"
      }
    },
    {
      "cell_type": "code",
      "source": [
        "from OpenHosta import config\n",
        "\n",
        "# Use Mistral-Small-24B (2025 Jannuary) through ollama\n",
        "my_model=config.OpenAICompatibleModel(\n",
        "    base_url=\"http://localhost:11434/v1/chat/completions\",\n",
        "    model=\"qwen2.5-coder:3b\", api_key=\"none\", timeout=120\n",
        ")\n",
        "config.set_default_model(my_model)\n"
      ],
      "metadata": {
        "id": "SBC5-L0zqH1c"
      },
      "execution_count": 27,
      "outputs": []
    },
    {
      "cell_type": "markdown",
      "source": [
        "### Emulate functions using the seleted LLM"
      ],
      "metadata": {
        "id": "FauFveKWsp3G"
      }
    },
    {
      "cell_type": "code",
      "source": [
        "from OpenHosta.asynchrone import emulate"
      ],
      "metadata": {
        "id": "SEpo1gfJT8Bg"
      },
      "execution_count": 11,
      "outputs": []
    },
    {
      "cell_type": "code",
      "source": [
        "async def translate(text:str, language:str)->str:\n",
        "    \"\"\"\n",
        "    This function translates the text in the “text” parameter into the language specified in the “language” parameter.\n",
        "    \"\"\"\n",
        "    return await emulate()\n",
        "\n",
        "result = await translate(\"Hello World!\", \"French\")\n",
        "print(result)"
      ],
      "metadata": {
        "id": "gE1ecyDzUVFE",
        "colab": {
          "base_uri": "https://localhost:8080/"
        },
        "outputId": "3d408ff2-5c53-431f-aa77-2362454865cd"
      },
      "execution_count": 28,
      "outputs": [
        {
          "output_type": "stream",
          "name": "stdout",
          "text": [
            "Bonjour le monde!\n"
          ]
        }
      ]
    },
    {
      "cell_type": "code",
      "source": [
        "async def find_name_age(sentence:str, id:dict)->dict:\n",
        "    \"\"\"\n",
        "    This function find in a text the name and the age of a personn.\n",
        "\n",
        "    Args:\n",
        "        sentence: The text in which to search for information\n",
        "        id: The dictionary to fill in with information\n",
        "\n",
        "    Return:\n",
        "        A dictionary identical to the one passed in parameter, but filled with the information.\n",
        "        If the information is not found, fill with the values with “None”.\n",
        "    \"\"\"\n",
        "    return await emulate(model=my_model)\n",
        "\n",
        "return_dict = {\"name\": \"\", \"age\": \"\"}\n",
        "result = await find_name_age(\"Hello, I'm John Wick, i'm 30 and I live in New York\", return_dict)\n",
        "print(result)"
      ],
      "metadata": {
        "id": "I_AJQzoKU192",
        "colab": {
          "base_uri": "https://localhost:8080/"
        },
        "outputId": "afca562f-af7a-4999-8f34-2c1f87b06f1c"
      },
      "execution_count": 29,
      "outputs": [
        {
          "output_type": "stream",
          "name": "stdout",
          "text": [
            "{'name': 'John Wick', 'age': 30}\n"
          ]
        }
      ]
    },
    {
      "cell_type": "markdown",
      "source": [
        "### Specify advanced return types"
      ],
      "metadata": {
        "id": "bVuS-CC6szQM"
      }
    },
    {
      "cell_type": "code",
      "source": [
        "from typing import Dict, Tuple, List\n",
        "\n",
        "async def analyze_text(text: str) -> Dict[str, List[Tuple[int, str]]]:\n",
        "    \"\"\"Analyze text to map each word to a list of tuples containing word length and word.\"\"\"\n",
        "    return await emulate()\n",
        "\n",
        "# Example usage\n",
        "analysis = await analyze_text(\"Hello, World!\")\n",
        "\n",
        "print(analysis)\n",
        "print(type(analysis))"
      ],
      "metadata": {
        "id": "GXiKTdYm_GGp",
        "colab": {
          "base_uri": "https://localhost:8080/"
        },
        "outputId": "75d897a5-d14c-4cb8-aba3-92ced3454d0f"
      },
      "execution_count": 30,
      "outputs": [
        {
          "output_type": "stream",
          "name": "stdout",
          "text": [
            "[{'1': 'Hello'}, {'5': 'World'}]\n",
            "<class 'list'>\n"
          ]
        },
        {
          "output_type": "stream",
          "name": "stderr",
          "text": [
            "[TypeConverter.check]: Failed to convert basic type from the LLM. Keep original type.\n"
          ]
        }
      ]
    },
    {
      "cell_type": "markdown",
      "source": [
        "### Specify pydantic return strucures\n",
        "\n",
        "OpenHosta is compatible with pydantic. You can specify pydantic input and output types and OpenHosta will propagate schema and Field documentation to the LLM."
      ],
      "metadata": {
        "id": "R5qFAS06s7Eq"
      }
    },
    {
      "cell_type": "code",
      "source": [
        "!pip install pydantic"
      ],
      "metadata": {
        "id": "-w2PyozHrklT",
        "colab": {
          "base_uri": "https://localhost:8080/"
        },
        "outputId": "a64cc502-53db-4816-a293-2bb4d07b5399"
      },
      "execution_count": 18,
      "outputs": [
        {
          "output_type": "stream",
          "name": "stdout",
          "text": [
            "Requirement already satisfied: pydantic in /usr/local/lib/python3.11/dist-packages (2.10.6)\n",
            "Requirement already satisfied: annotated-types>=0.6.0 in /usr/local/lib/python3.11/dist-packages (from pydantic) (0.7.0)\n",
            "Requirement already satisfied: pydantic-core==2.27.2 in /usr/local/lib/python3.11/dist-packages (from pydantic) (2.27.2)\n",
            "Requirement already satisfied: typing-extensions>=4.12.2 in /usr/local/lib/python3.11/dist-packages (from pydantic) (4.12.2)\n"
          ]
        }
      ]
    },
    {
      "cell_type": "code",
      "source": [
        "from pydantic import BaseModel, Field\n",
        "\n",
        "class Personn(BaseModel):\n",
        "    name: str = Field(..., description = \"The full name\")\n",
        "    age: int\n",
        "\n",
        "async def find_name_age_pydantic(sentence:str)->Personn:\n",
        "    \"\"\"\n",
        "    This function find in a text the name and the age of a personn.\n",
        "\n",
        "    Args:\n",
        "        sentence: The text in which to search for information\n",
        "\n",
        "    Return:\n",
        "        A Pydantic model, but filled with the information.\n",
        "        If the information is not found, fill with the values with “None”.\n",
        "    \"\"\"\n",
        "    return await emulate()\n",
        "\n",
        "result = await find_name_age_pydantic(\"Luke Skywalker is very surprising: he's only 27 when he becomes a Jedi.\")\n",
        "print(result)"
      ],
      "metadata": {
        "id": "wnn5ed4QWXYs",
        "colab": {
          "base_uri": "https://localhost:8080/"
        },
        "outputId": "f4096bb1-e5ad-4c60-9532-b32b483d64e5"
      },
      "execution_count": 31,
      "outputs": [
        {
          "output_type": "stream",
          "name": "stdout",
          "text": [
            "name='Luke Skywalker' age=27\n"
          ]
        }
      ]
    },
    {
      "cell_type": "code",
      "source": [
        "from OpenHosta import print_last_response\n",
        "\n",
        "print_last_response(find_name_age_pydantic)"
      ],
      "metadata": {
        "id": "ou4bdIkYHi8J",
        "outputId": "a9139472-95c8-4eae-bced-6232dd2a7ee4",
        "colab": {
          "base_uri": "https://localhost:8080/"
        }
      },
      "execution_count": 32,
      "outputs": [
        {
          "output_type": "stream",
          "name": "stdout",
          "text": [
            "[THINKING]\n",
            "\n",
            "[ANSWER]\n",
            "{\"return\":{\"name\":\"Luke Skywalker\",\"age\":27}}\n",
            "[Data]\n",
            "name='Luke Skywalker' age=27\n"
          ]
        }
      ]
    },
    {
      "cell_type": "markdown",
      "source": [
        "### Limitations\n",
        "\n",
        "The emulation is limited by the LLM capabilities. Try to have it count r in strawberrry and you will get into troubles ;-).\n",
        "Make sure the LLM is capable and not alucinating before you implement an emulated function."
      ],
      "metadata": {
        "id": "VvcHBChjtyys"
      }
    },
    {
      "cell_type": "code",
      "source": [
        "async def find_occurence_of_a_word(word :str, text: str) -> int:\n",
        "    \"\"\"\n",
        "    This function takes a word and a text and returns\n",
        "    the number of times the word appears in the text.\n",
        "    \"\"\"\n",
        "    return await emulate()\n",
        "\n",
        "await find_occurence_of_a_word(\"Hello\", \"Hello World Hello!\")\n"
      ],
      "metadata": {
        "id": "E5eTPiUyXjXR",
        "colab": {
          "base_uri": "https://localhost:8080/"
        },
        "outputId": "1c4f21f2-73f9-4a1e-d0ea-78c5a16c87ed"
      },
      "execution_count": 34,
      "outputs": [
        {
          "output_type": "execute_result",
          "data": {
            "text/plain": [
              "3"
            ]
          },
          "metadata": {},
          "execution_count": 34
        }
      ]
    }
  ]
}