{
  "nbformat": 4,
  "nbformat_minor": 0,
  "metadata": {
    "colab": {
      "provenance": [],
      "include_colab_link": true
    },
    "kernelspec": {
      "name": "python3",
      "display_name": "Python 3"
    },
    "language_info": {
      "name": "python"
    }
  },
  "cells": [
    {
      "cell_type": "markdown",
      "metadata": {
        "id": "view-in-github",
        "colab_type": "text"
      },
      "source": [
        "<a href=\"https://colab.research.google.com/github/hand-e-fr/OpenHosta/blob/doc/docs/openhosta_agent.ipynb\" target=\"_parent\"><img src=\"https://colab.research.google.com/assets/colab-badge.svg\" alt=\"Open In Colab\"/></a>"
      ]
    },
    {
      "cell_type": "markdown",
      "source": [
        "# OpenHosta Agent with GPT4\n",
        "\n",
        "This colab demonstrate simple use cases of OpenHosta. You need an OpenAI key to run it"
      ],
      "metadata": {
        "id": "2ywSpiksruBs"
      }
    },
    {
      "cell_type": "markdown",
      "source": [
        "## Basic Usage of AI Agents with OpenHosta"
      ],
      "metadata": {
        "id": "0x6AUM3osYK2"
      }
    },
    {
      "cell_type": "code",
      "source": [
        "!pip install OpenHosta"
      ],
      "metadata": {
        "id": "L9EUaVsR8x7x",
        "outputId": "7f4a1f74-e4d1-4dbd-cb12-42eccaf195c9",
        "colab": {
          "base_uri": "https://localhost:8080/"
        }
      },
      "execution_count": 1,
      "outputs": [
        {
          "output_type": "stream",
          "name": "stdout",
          "text": [
            "Collecting OpenHosta\n",
            "  Downloading OpenHosta-2.2.1-py3-none-any.whl.metadata (8.4 kB)\n",
            "Requirement already satisfied: requests>=2.32.3 in /usr/local/lib/python3.11/dist-packages (from OpenHosta) (2.32.3)\n",
            "Requirement already satisfied: typing_extensions>=4.12.2 in /usr/local/lib/python3.11/dist-packages (from OpenHosta) (4.12.2)\n",
            "Requirement already satisfied: jinja2>=3.1.5 in /usr/local/lib/python3.11/dist-packages (from OpenHosta) (3.1.5)\n",
            "Requirement already satisfied: MarkupSafe>=2.0 in /usr/local/lib/python3.11/dist-packages (from jinja2>=3.1.5->OpenHosta) (3.0.2)\n",
            "Requirement already satisfied: charset-normalizer<4,>=2 in /usr/local/lib/python3.11/dist-packages (from requests>=2.32.3->OpenHosta) (3.4.1)\n",
            "Requirement already satisfied: idna<4,>=2.5 in /usr/local/lib/python3.11/dist-packages (from requests>=2.32.3->OpenHosta) (3.10)\n",
            "Requirement already satisfied: urllib3<3,>=1.21.1 in /usr/local/lib/python3.11/dist-packages (from requests>=2.32.3->OpenHosta) (2.3.0)\n",
            "Requirement already satisfied: certifi>=2017.4.17 in /usr/local/lib/python3.11/dist-packages (from requests>=2.32.3->OpenHosta) (2025.1.31)\n",
            "Downloading OpenHosta-2.2.1-py3-none-any.whl (61 kB)\n",
            "\u001b[2K   \u001b[90m━━━━━━━━━━━━━━━━━━━━━━━━━━━━━━━━━━━━━━━━\u001b[0m \u001b[32m61.6/61.6 kB\u001b[0m \u001b[31m2.2 MB/s\u001b[0m eta \u001b[36m0:00:00\u001b[0m\n",
            "\u001b[?25hInstalling collected packages: OpenHosta\n",
            "Successfully installed OpenHosta-2.2.1\n"
          ]
        }
      ]
    },
    {
      "cell_type": "markdown",
      "source": [
        "### Configure the LLM that you want to use"
      ],
      "metadata": {
        "id": "1ZEB71Ytsk4B"
      }
    },
    {
      "cell_type": "code",
      "source": [
        "from OpenHosta import config\n",
        "\n",
        "# You can skip this line if you plan to use the local ollama instace of phi-4\n",
        "config.set_default_apiKey(\"...\") # Ask me one through LinkedIn, I will provide one for testing purpose!"
      ],
      "metadata": {
        "id": "SBC5-L0zqH1c"
      },
      "execution_count": 2,
      "outputs": []
    },
    {
      "cell_type": "markdown",
      "source": [
        "## Agent structure\n",
        "\n",
        "Ask a question then select best function to answer"
      ],
      "metadata": {
        "id": "T62JVKqU0rMg"
      }
    },
    {
      "cell_type": "markdown",
      "source": [
        "Within Google colab you must use asynchrone version of ̀`emulate`. If you want to reproduce this without coroutines, remove `.asynchrone` in the import line and all `await` and `async`"
      ],
      "metadata": {
        "id": "7h9a4_BXBoS9"
      }
    },
    {
      "cell_type": "markdown",
      "source": [
        "### Emulate functions using the seleted LLM"
      ],
      "metadata": {
        "id": "FauFveKWsp3G"
      }
    },
    {
      "cell_type": "code",
      "source": [
        "from OpenHosta.asynchrone import emulate"
      ],
      "metadata": {
        "id": "SEpo1gfJT8Bg"
      },
      "execution_count": 4,
      "outputs": []
    },
    {
      "cell_type": "code",
      "source": [
        "# Mix of python and Openhosta functions that the agent will use\n",
        "async def add(a:float, b:float)->float:\n",
        "  \"\"\"\n",
        "  add two float numbers\n",
        "  \"\"\"\n",
        "  return a+b\n",
        "\n",
        "async def number_to_string(number:float)->str:\n",
        "  \"\"\"\n",
        "  Convert a number to a string that represent the number in letters\n",
        "  \"\"\"\n",
        "  return await emulate()\n",
        "\n",
        "async def string_to_number(input_string:str)->float:\n",
        "  \"\"\"\n",
        "  Convert input_string to a number\n",
        "  \"\"\"\n",
        "  return await emulate()"
      ],
      "metadata": {
        "id": "icgBCk9j00-2"
      },
      "execution_count": 22,
      "outputs": []
    },
    {
      "cell_type": "code",
      "source": [
        "# Agent main router\n",
        "from typing import Dict, Literal, List, Tuple\n",
        "\n",
        "Actions = {\n",
        "    \"add\": add,\n",
        "    \"number_to_string\": number_to_string,\n",
        "    \"string_to_number\": string_to_number\n",
        "}\n",
        "\n",
        "ActionType = Literal[\"add\", \"number_to_string\", \"string_to_number\", \"Done\"]\n"
      ],
      "metadata": {
        "id": "gZ02NiW_1ooR"
      },
      "execution_count": 23,
      "outputs": []
    },
    {
      "cell_type": "code",
      "source": [
        "import inspect\n",
        "\n",
        "annotations = {f:inspect.get_annotations(f) for f in Actions.values()}"
      ],
      "metadata": {
        "id": "kHbkwB0EDfi7"
      },
      "execution_count": 27,
      "outputs": []
    },
    {
      "cell_type": "code",
      "source": [
        "async def find_best_step_to_execute(stack:List[Tuple[ActionType, list, str]], actions:dict, target)->Tuple[ActionType, list]:\n",
        "  \"\"\"\n",
        "  Select the best action to get elements needed to achieve target.\n",
        "\n",
        "  You first print a strategy based on possible actions,\n",
        "  Then you look at already executed actions in stack,\n",
        "  Then you decide of the next action to take and its parameters\n",
        "\n",
        "  :param stack: a list of already taken actions with (ActionType, list of params, Action returned value)\n",
        "  :param actions: a dictionarry of possible tools\n",
        "  :param target: the overall target objective.\n",
        "\n",
        "  :return: The next action to take and its parameters. Return Done if there is no more action to take\n",
        "  \"\"\"\n",
        "  return await emulate()"
      ],
      "metadata": {
        "id": "Lxh9xIh0D3KZ"
      },
      "execution_count": 28,
      "outputs": []
    },
    {
      "cell_type": "markdown",
      "source": [
        "### Agent main loop"
      ],
      "metadata": {
        "id": "bVuS-CC6szQM"
      }
    },
    {
      "cell_type": "markdown",
      "source": [
        "Skip this part if you do not have OpenAI API Key"
      ],
      "metadata": {
        "id": "uxq5U8KEFyaf"
      }
    },
    {
      "cell_type": "code",
      "source": [
        "request = \"can you add twenty two and hundred thousant fifity five and print the result in letters\"\n",
        "\n",
        "stack=[]\n",
        "output = \"\"\n",
        "\n",
        "Done=False\n",
        "while not Done:\n",
        "  next_action, params = await find_best_step_to_execute(stack, annotations, request)\n",
        "  if next_action == \"Done\":\n",
        "    Done=True\n",
        "  else:\n",
        "    next_function = Actions[next_action]\n",
        "    print(f\"Executing {next_action} with params {params}\")\n",
        "    output = await next_function(*params)\n",
        "    stack.append([next_action, params, output])\n",
        "\n",
        "print(output)\n"
      ],
      "metadata": {
        "id": "GXiKTdYm_GGp",
        "colab": {
          "base_uri": "https://localhost:8080/"
        },
        "outputId": "b390f269-e76a-4af5-8d7c-4c5a4f4e54be"
      },
      "execution_count": 34,
      "outputs": [
        {
          "output_type": "stream",
          "name": "stdout",
          "text": [
            "Executing string_to_number with params ['twenty two']\n",
            "Executing string_to_number with params ['hundred thousant fifity five']\n"
          ]
        },
        {
          "output_type": "stream",
          "name": "stderr",
          "text": [
            "[TypeConverter.check]: Got None response from the LLM."
          ]
        },
        {
          "output_type": "stream",
          "name": "stdout",
          "text": [
            "Executing string_to_number with params ['hundred thousant fifity five']\n"
          ]
        },
        {
          "output_type": "stream",
          "name": "stderr",
          "text": [
            "[TypeConverter.check]: Got None response from the LLM."
          ]
        },
        {
          "output_type": "stream",
          "name": "stdout",
          "text": [
            "Executing string_to_number with params ['hundred thousant fifity five']\n",
            "Executing add with params [22.0, 100055.0]\n",
            "Executing number_to_string with params [100077.0]\n",
            "one hundred thousand seventy-seven\n"
          ]
        }
      ]
    },
    {
      "cell_type": "markdown",
      "source": [
        "# OpenHosta Agent with a Local Phi-4 LLM\n",
        "\n",
        "Redo the same but with a local phi-4 instance"
      ],
      "metadata": {
        "id": "URv0gDv_EzYk"
      }
    },
    {
      "cell_type": "code",
      "source": [
        "!apt install -y screen\n",
        "!curl -fsSL https://ollama.com/install.sh | sh\n",
        "!screen -dmS ollama ollama serve\n",
        "!echo Downloading model. This can take 5min ...\n",
        "!ollama run phi4 hello --verbose  2>&1 | grep -E \":\""
      ],
      "metadata": {
        "id": "Oa1aifHkE65x",
        "outputId": "175f7ef1-d795-4385-bbc3-efda1cf51b16",
        "colab": {
          "base_uri": "https://localhost:8080/"
        }
      },
      "execution_count": null,
      "outputs": [
        {
          "output_type": "stream",
          "name": "stdout",
          "text": [
            "Reading package lists... Done\n",
            "Building dependency tree... Done\n",
            "Reading state information... Done\n",
            "screen is already the newest version (4.9.0-1).\n",
            "0 upgraded, 0 newly installed, 0 to remove and 19 not upgraded.\n",
            ">>> Cleaning up old version at /usr/local/lib/ollama\n",
            ">>> Installing ollama to /usr/local\n",
            ">>> Downloading Linux amd64 bundle\n",
            "############################################################################################# 100.0%\n",
            ">>> Adding ollama user to video group...\n",
            ">>> Adding current user to ollama group...\n",
            ">>> Creating ollama systemd service...\n",
            "\u001b[1m\u001b[31mWARNING:\u001b[m systemd is not running\n",
            "\u001b[1m\u001b[31mWARNING:\u001b[m Unable to detect NVIDIA/AMD GPU. Install lspci or lshw to automatically detect and install GPU dependencies.\n",
            ">>> The Ollama API is now available at 127.0.0.1:11434.\n",
            ">>> Install complete. Run \"ollama\" from the command line.\n",
            "Downloading model. This can take 5min ...\n"
          ]
        }
      ]
    },
    {
      "cell_type": "code",
      "source": [
        "from OpenHosta import config\n",
        "# Use Microsoft local Phi-4 through ollama\n",
        "my_model=config.Model(\n",
        "     base_url=\"http://localhost:11434/v1/chat/completions\",\n",
        "     model=\"phi4\", api_key=\"none\", timeout=120\n",
        " )\n",
        "config.set_default_model(my_model)\n"
      ],
      "metadata": {
        "id": "KYjUCTlXE9JN"
      },
      "execution_count": null,
      "outputs": []
    },
    {
      "cell_type": "code",
      "source": [
        "request = \"can you add twenty two and hundred thousant fifity five and print the result in letters\"\n",
        "\n",
        "stack=[]\n",
        "output = \"\"\n",
        "\n",
        "Done=False\n",
        "while not Done:\n",
        "  next_action, params = await find_best_step_to_execute(stack, annotations, request)\n",
        "  if next_action == \"Done\":\n",
        "    Done=True\n",
        "  else:\n",
        "    next_function = Actions[next_action]\n",
        "    print(f\"Executing {next_action} with params {params}\")\n",
        "    output = await next_function(*params)\n",
        "    stack.append([next_action, params, output])\n",
        "\n",
        "print(output)\n"
      ],
      "metadata": {
        "id": "9DOhiLjVFrgT"
      },
      "execution_count": null,
      "outputs": []
    }
  ]
}