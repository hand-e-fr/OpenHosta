{
 "cells": [
  {
   "cell_type": "code",
   "execution_count": 1,
   "metadata": {},
   "outputs": [],
   "source": [
    "from OpenHosta import *\n",
    "\n",
    "config.set_default_apiKey(\"sk-proj-T7o4z8S4q9fnBNTdSq4iT3BlbkFJ82uVDLRaIAkx1sjwyE5C\")"
   ]
  },
  {
   "cell_type": "code",
   "execution_count": 2,
   "metadata": {},
   "outputs": [],
   "source": [
    "def count_letter(a:str) -> int:\n",
    "    \"\"\"\n",
    "    This function count the nubmer of characters in a string\n",
    "    \"\"\"  \n",
    "    return emulate()\n",
    "\n",
    "int_test = count_letter(\"Hello World!\")"
   ]
  },
  {
   "cell_type": "code",
   "execution_count": 3,
   "metadata": {},
   "outputs": [
    {
     "name": "stdout",
     "output_type": "stream",
     "text": [
      "<class 'int'>\n",
      "12\n"
     ]
    }
   ],
   "source": [
    "print(type(int_test))\n",
    "print(int_test)"
   ]
  },
  {
   "cell_type": "code",
   "execution_count": 4,
   "metadata": {},
   "outputs": [
    {
     "name": "stdout",
     "output_type": "stream",
     "text": [
      "{'model': 'gpt-4o', 'messages': [{'role': 'system', 'content': [{'type': 'text', 'text': 'You will act as an emulator of impossible-to-code functions. I will provide you with the description of the function using Python\\'s way of declaring functions, but I won\\'t provide the function body as I don\\'t know how to code it. It might even be impossible to code. Therefore, you should not try to write the body. Instead, directly imagine the function output.\\n\\nIn the conversation, I will directly write the function call as if it was called in Python. You should directly answer with whatever you believe would be a good return for the function.\\n\\nWhen you produce an answer, you should estimate the confidence level:\\n\\n    \"low\": You did your best, but with the provided description and your knowledge, you are not confident about the answer.\\n    \"medium-instance\": You did your best, and with the provided description and your knowledge, you are pretty sure this answer is valid but not the only valid answer.\\n    \"medium-unique\": You did your best, and with the provided description and your knowledge, you are pretty sure this answer is the unique and valid answer.\\n    \"high-instance\": You did your best, and you are sure that your provided answer is a valid answer. It is a well-known function or you can easily implement a Python code that yields elements from the list of valid answers. This answer is randomly chosen from the list of valid answers.\\n    \"high-unique\": You did your best, and you are sure that your provided answer is the unique valid answer. It is a well-known function or you can easily implement a Python code that solves the question and calculates this answer given this input.\\n\\nIf the output is documented as a Python structure, you should translate it to JSON.\\nYou should encode the return in valid JSON format, without comments, using the following format:\\n{\"return\":..., \"confidence\":...}\\n\\nThe output must be of the same type as that specified in the function call.\\n\\nAny assumptions made should be reasonable based on the provided function description and should take into account the error handling of the function.\\n\\nConsistency in the confidence levels is important to ensure accurate responses.\\nThis is the function documentation:\\n\\nExample function call:\\n\\ndef example_function(a: int, b: dict) -> int:\\n    \"\"\"\\n    \"\"\"\\n    This is an example function.\\n    It adds two numbers.\\n    \"\"\"\\n    \"\"\"\\n    pass\\n\\nExample imagined function output:\\n\\nresult = example_function(3, {\"value\": 7})\\n\\nExpected JSON output:\\n\\n{\"return\": 10, \"confidence\": \"medium-unique\"}\\n\\nThis is the function documentation:'}]}, {'role': 'user', 'content': [{'type': 'text', 'text': 'Here\\'s the function definition:\\ndef reverse_str_ia(a: str): -> str\\n    \\'\\'\\'\\n    \\n    This function reverse a string\\n    \\n    \\'\\'\\'\\nAnd this is the function call:\\nreverse_str_ia(\\'Hello World!\\')\\nTo fill the “return” value in the output JSON, build your response as defined in the following JSON schema. Do not change the key \"return\"\\n{\\'properties\\': {\\'return_hosta_type\\': {\\'title\\': \\'Return Hosta Type\\', \\'type\\': \\'string\\'}}, \\'required\\': [\\'return_hosta_type\\'], \\'title\\': \\'Hosta_return_specified\\', \\'type\\': \\'object\\'}'}]}], 'response_format': {'type': 'json_object'}, 'temperature': 0.7, 'top_p': 0.7}\n",
      "{'return': '!dlroW olleH', 'confidence': 'high-unique'}\n",
      "\u001b[94m\u001b[1mExecution time of _exec_emulate: 0.81s\u001b[0m\n"
     ]
    }
   ],
   "source": [
    "def reverse_str_ia(a:str)->str:\n",
    "    \"\"\"\n",
    "    This function reverse a string\n",
    "    \"\"\"\n",
    "    return emulate()\n",
    "\n",
    "str_test = reverse_str_ia(\"Hello World!\")"
   ]
  },
  {
   "cell_type": "code",
   "execution_count": 5,
   "metadata": {},
   "outputs": [
    {
     "name": "stdout",
     "output_type": "stream",
     "text": [
      "<class 'str'>\n",
      "!dlroW olleH\n"
     ]
    }
   ],
   "source": [
    "print(type(str_test))\n",
    "print(str_test)"
   ]
  },
  {
   "cell_type": "code",
   "execution_count": 6,
   "metadata": {},
   "outputs": [
    {
     "name": "stdout",
     "output_type": "stream",
     "text": [
      "{'model': 'gpt-4o', 'messages': [{'role': 'system', 'content': [{'type': 'text', 'text': 'You will act as an emulator of impossible-to-code functions. I will provide you with the description of the function using Python\\'s way of declaring functions, but I won\\'t provide the function body as I don\\'t know how to code it. It might even be impossible to code. Therefore, you should not try to write the body. Instead, directly imagine the function output.\\n\\nIn the conversation, I will directly write the function call as if it was called in Python. You should directly answer with whatever you believe would be a good return for the function.\\n\\nWhen you produce an answer, you should estimate the confidence level:\\n\\n    \"low\": You did your best, but with the provided description and your knowledge, you are not confident about the answer.\\n    \"medium-instance\": You did your best, and with the provided description and your knowledge, you are pretty sure this answer is valid but not the only valid answer.\\n    \"medium-unique\": You did your best, and with the provided description and your knowledge, you are pretty sure this answer is the unique and valid answer.\\n    \"high-instance\": You did your best, and you are sure that your provided answer is a valid answer. It is a well-known function or you can easily implement a Python code that yields elements from the list of valid answers. This answer is randomly chosen from the list of valid answers.\\n    \"high-unique\": You did your best, and you are sure that your provided answer is the unique valid answer. It is a well-known function or you can easily implement a Python code that solves the question and calculates this answer given this input.\\n\\nIf the output is documented as a Python structure, you should translate it to JSON.\\nYou should encode the return in valid JSON format, without comments, using the following format:\\n{\"return\":..., \"confidence\":...}\\n\\nThe output must be of the same type as that specified in the function call.\\n\\nAny assumptions made should be reasonable based on the provided function description and should take into account the error handling of the function.\\n\\nConsistency in the confidence levels is important to ensure accurate responses.\\nThis is the function documentation:\\n\\nExample function call:\\n\\ndef example_function(a: int, b: dict) -> int:\\n    \"\"\"\\n    \"\"\"\\n    This is an example function.\\n    It adds two numbers.\\n    \"\"\"\\n    \"\"\"\\n    pass\\n\\nExample imagined function output:\\n\\nresult = example_function(3, {\"value\": 7})\\n\\nExpected JSON output:\\n\\n{\"return\": 10, \"confidence\": \"medium-unique\"}\\n\\nThis is the function documentation:'}]}, {'role': 'user', 'content': [{'type': 'text', 'text': 'Here\\'s the function definition:\\ndef add_two_values(a, b):\\n    \\'\\'\\'\\n    return a + b\\n    \\'\\'\\'\\nAnd this is the function call:\\nadd_two_values(1, 2)\\nTo fill the “return” value in the output JSON, build your response as defined in the following JSON schema. Do not change the key \"return\"\\n{\\'properties\\': {\\'return_hosta_type\\': {\\'title\\': \\'Return Hosta Type\\'}}, \\'required\\': [\\'return_hosta_type\\'], \\'title\\': \\'Hosta_return_no_specified\\', \\'type\\': \\'object\\'}'}]}], 'response_format': {'type': 'json_object'}, 'temperature': 0.7, 'top_p': 0.7}\n",
      "{'return': 3, 'confidence': 'high-unique'}\n",
      "\u001b[94m\u001b[1mExecution time of _exec_emulate: 0.64s\u001b[0m\n"
     ]
    }
   ],
   "source": [
    "def add_two_values(a, b):\n",
    "    \"return a + b\"\n",
    "    return emulate()\n",
    "\n",
    "Any_test = add_two_values(1, 2)"
   ]
  },
  {
   "cell_type": "code",
   "execution_count": 7,
   "metadata": {},
   "outputs": [
    {
     "name": "stdout",
     "output_type": "stream",
     "text": [
      "<class 'int'>\n",
      "3\n"
     ]
    }
   ],
   "source": [
    "print(type(Any_test))\n",
    "print(Any_test)"
   ]
  },
  {
   "cell_type": "code",
   "execution_count": 4,
   "metadata": {},
   "outputs": [
    {
     "name": "stdout",
     "output_type": "stream",
     "text": [
      "EEEEEEEEEEEEEEEEEEEEEEEE\n",
      "{'model': 'gpt-4o', 'messages': [{'role': 'system', 'content': [{'type': 'text', 'text': 'You will act as an emulator of impossible-to-code functions. I will provide you with the description of the function using Python\\'s way of declaring functions, but I won\\'t provide the function body as I don\\'t know how to code it. It might even be impossible to code. Therefore, you should not try to write the body. Instead, directly imagine the function output.\\n\\nIn the conversation, I will directly write the function call as if it was called in Python. You should directly answer with whatever you believe would be a good return for the function.\\n\\nWhen you produce an answer, you should estimate the confidence level:\\n\\n    \"low\": You did your best, but with the provided description and your knowledge, you are not confident about the answer.\\n    \"medium-instance\": You did your best, and with the provided description and your knowledge, you are pretty sure this answer is valid but not the only valid answer.\\n    \"medium-unique\": You did your best, and with the provided description and your knowledge, you are pretty sure this answer is the unique and valid answer.\\n    \"high-instance\": You did your best, and you are sure that your provided answer is a valid answer. It is a well-known function or you can easily implement a Python code that yields elements from the list of valid answers. This answer is randomly chosen from the list of valid answers.\\n    \"high-unique\": You did your best, and you are sure that your provided answer is the unique valid answer. It is a well-known function or you can easily implement a Python code that solves the question and calculates this answer given this input.\\n\\nIf the output is documented as a Python structure, you should translate it to JSON.\\nYou should encode the return in valid JSON format, without comments, using the following format:\\n{\"return\":..., \"confidence\":...}\\n\\nThe output must be of the same type as that specified in the function call.\\n\\nAny assumptions made should be reasonable based on the provided function description and should take into account the error handling of the function.\\n\\nConsistency in the confidence levels is important to ensure accurate responses.\\nThis is the function documentation:\\n\\nExample function call:\\n\\ndef example_function(a: int, b: dict) -> int:\\n    \"\"\"\\n    \"\"\"\\n    This is an example function.\\n    It adds two numbers.\\n    \"\"\"\\n    \"\"\"\\n    pass\\n\\nExample imagined function output:\\n\\nresult = example_function(3, {\"value\": 7})\\n\\nExpected JSON output:\\n\\n{\"return\": 10, \"confidence\": \"medium-unique\"}\\n\\nThis is the function documentation:'}]}, {'role': 'user', 'content': [{'type': 'text', 'text': 'Here\\'s the function definition:\\ndef test_return(info: str): -> Test_return\\n    \\'\\'\\'\\n    \\n    This function return a the age and name of a person and also is birth date\\n    \\n    \\'\\'\\'\\nAnd this is the function call:\\ntest_return(\\'18 years old, born in 2003, name is John Mcarty\\')\\nTo fill the “return” value in the output JSON, build your response as defined in the following JSON schema. Do not change the key \"return\"\\n{\\'properties\\': {\\'agess\\': {\\'title\\': \\'Agess\\', \\'type\\': \\'integer\\'}, \\'birth_d3te\\': {\\'title\\': \\'Birth D3Te\\', \\'type\\': \\'integer\\'}, \\'name\\': {\\'title\\': \\'Name\\', \\'type\\': \\'string\\'}}, \\'required\\': [\\'agess\\', \\'birth_d3te\\', \\'name\\'], \\'title\\': \\'Test_return\\', \\'type\\': \\'object\\'}'}]}], 'response_format': {'type': 'json_object'}, 'temperature': 0.7, 'top_p': 0.7}\n",
      "{'return': {'agess': 18, 'birth_d3te': 2003, 'name': 'John Mcarty'}, 'confidence': 'high-unique'}\n",
      "\u001b[94m\u001b[1mExecution time of _exec_emulate: 1.16s\u001b[0m\n"
     ]
    }
   ],
   "source": [
    "from pydantic import BaseModel\n",
    "\n",
    "class Test_return(BaseModel):\n",
    "    agess: int\n",
    "    birth_d3te: int\n",
    "    name: str\n",
    "\n",
    "def test_return(info : str) -> Test_return:\n",
    "    \"\"\"\n",
    "    This function return a the age and name of a person and also is birth date\n",
    "    \"\"\"\n",
    "    return emulate()\n",
    "\n",
    "pydantic_test = test_return(\"18 years old, born in 2003, name is John Mcarty\")"
   ]
  },
  {
   "cell_type": "code",
   "execution_count": 9,
   "metadata": {},
   "outputs": [
    {
     "name": "stdout",
     "output_type": "stream",
     "text": [
      "{'agess': 18, 'birth_d3te': 2003, 'name': 'John Mcarty'}\n"
     ]
    }
   ],
   "source": [
    "print(pydantic_test)"
   ]
  },
  {
   "cell_type": "code",
   "execution_count": 5,
   "metadata": {},
   "outputs": [
    {
     "name": "stdout",
     "output_type": "stream",
     "text": [
      "EEEEEEEEEEEEEEEEEEEEEEEE\n",
      "{'model': 'gpt-4o', 'messages': [{'role': 'system', 'content': [{'type': 'text', 'text': 'You will act as an emulator of impossible-to-code functions. I will provide you with the description of the function using Python\\'s way of declaring functions, but I won\\'t provide the function body as I don\\'t know how to code it. It might even be impossible to code. Therefore, you should not try to write the body. Instead, directly imagine the function output.\\n\\nIn the conversation, I will directly write the function call as if it was called in Python. You should directly answer with whatever you believe would be a good return for the function.\\n\\nWhen you produce an answer, you should estimate the confidence level:\\n\\n    \"low\": You did your best, but with the provided description and your knowledge, you are not confident about the answer.\\n    \"medium-instance\": You did your best, and with the provided description and your knowledge, you are pretty sure this answer is valid but not the only valid answer.\\n    \"medium-unique\": You did your best, and with the provided description and your knowledge, you are pretty sure this answer is the unique and valid answer.\\n    \"high-instance\": You did your best, and you are sure that your provided answer is a valid answer. It is a well-known function or you can easily implement a Python code that yields elements from the list of valid answers. This answer is randomly chosen from the list of valid answers.\\n    \"high-unique\": You did your best, and you are sure that your provided answer is the unique valid answer. It is a well-known function or you can easily implement a Python code that solves the question and calculates this answer given this input.\\n\\nIf the output is documented as a Python structure, you should translate it to JSON.\\nYou should encode the return in valid JSON format, without comments, using the following format:\\n{\"return\":..., \"confidence\":...}\\n\\nThe output must be of the same type as that specified in the function call.\\n\\nAny assumptions made should be reasonable based on the provided function description and should take into account the error handling of the function.\\n\\nConsistency in the confidence levels is important to ensure accurate responses.\\nThis is the function documentation:\\n\\nExample function call:\\n\\ndef example_function(a: int, b: dict) -> int:\\n    \"\"\"\\n    \"\"\"\\n    This is an example function.\\n    It adds two numbers.\\n    \"\"\"\\n    \"\"\"\\n    pass\\n\\nExample imagined function output:\\n\\nresult = example_function(3, {\"value\": 7})\\n\\nExpected JSON output:\\n\\n{\"return\": 10, \"confidence\": \"medium-unique\"}\\n\\nThis is the function documentation:'}]}, {'role': 'user', 'content': [{'type': 'text', 'text': 'Here\\'s the function definition:\\ndef imagine_a_person(): -> Model1\\n    \\'\\'\\'\\n    \\n    This function return a person with some information that are given in the pydantic model\\n    \\n    \\'\\'\\'\\nAnd this is the function call:\\nimagine_a_person()\\nTo fill the “return” value in the output JSON, build your response as defined in the following JSON schema. Do not change the key \"return\"\\n{\\'$defs\\': {\\'Model2\\': {\\'properties\\': {\\'family_name\\': {\\'title\\': \\'Family Name\\', \\'type\\': \\'integer\\'}, \\'name\\': {\\'title\\': \\'Name\\', \\'type\\': \\'string\\'}, \\'sexe\\': {\\'title\\': \\'Sexe\\', \\'type\\': \\'integer\\'}, \\'work\\': {\\'$ref\\': \\'#/$defs/Model3\\'}}, \\'required\\': [\\'family_name\\', \\'name\\', \\'sexe\\', \\'work\\'], \\'title\\': \\'Model2\\', \\'type\\': \\'object\\'}, \\'Model3\\': {\\'properties\\': {\\'company\\': {\\'title\\': \\'Company\\', \\'type\\': \\'string\\'}, \\'revenue\\': {\\'title\\': \\'Revenue\\', \\'type\\': \\'integer\\'}, \\'work_name\\': {\\'title\\': \\'Work Name\\', \\'type\\': \\'string\\'}}, \\'required\\': [\\'company\\', \\'revenue\\', \\'work_name\\'], \\'title\\': \\'Model3\\', \\'type\\': \\'object\\'}}, \\'properties\\': {\\'country\\': {\\'title\\': \\'Country\\', \\'type\\': \\'string\\'}, \\'age\\': {\\'title\\': \\'Age\\', \\'type\\': \\'integer\\'}, \\'birth_date\\': {\\'title\\': \\'Birth Date\\', \\'type\\': \\'integer\\'}, \\'person_info\\': {\\'$ref\\': \\'#/$defs/Model2\\'}}, \\'required\\': [\\'country\\', \\'age\\', \\'birth_date\\', \\'person_info\\'], \\'title\\': \\'Model1\\', \\'type\\': \\'object\\'}'}]}], 'response_format': {'type': 'json_object'}, 'temperature': 0.7, 'top_p': 0.7}\n",
      "{'return': {'country': 'USA', 'age': 30, 'birth_date': 19930101, 'person_info': {'family_name': 'Smith', 'name': 'John', 'sexe': 1, 'work': {'company': 'TechCorp', 'revenue': 100000, 'work_name': 'Engineer'}}}, 'confidence': 'high-instance'}\n",
      "\u001b[94m\u001b[1mExecution time of _exec_emulate: 1.70s\u001b[0m\n"
     ]
    }
   ],
   "source": [
    "# Exemple d'utilisation\n",
    "class Model3(BaseModel):\n",
    "    company: str\n",
    "    revenue: int\n",
    "    work_name: str\n",
    "\n",
    "class Model2(BaseModel):\n",
    "    family_name: int\n",
    "    name: str\n",
    "    sexe: int\n",
    "    work : Model3\n",
    "\n",
    "class Model1(BaseModel):\n",
    "    country: str\n",
    "    age: int\n",
    "    birth_date: int\n",
    "    person_info : Model2\n",
    "\n",
    "def imagine_a_person() -> Model1:\n",
    "    \"\"\"\n",
    "    This function return a person with some information that are given in the pydantic model\n",
    "    \"\"\"\n",
    "    return emulate()\n",
    "\n",
    "hard_pydantic_test = imagine_a_person()"
   ]
  },
  {
   "cell_type": "code",
   "execution_count": 10,
   "metadata": {},
   "outputs": [
    {
     "name": "stdout",
     "output_type": "stream",
     "text": [
      "<class 'dict'>\n",
      "{'country': 'USA', 'age': 30, 'birth_date': 19930515, 'person_info': {'family_name': 'Smith', 'name': 'John', 'sexe': 1, 'work': {'company': 'TechCorp', 'revenue': 50000, 'work_name': 'Engineer'}}}\n"
     ]
    }
   ],
   "source": [
    "print(type(hard_pydantic_test))\n",
    "print(hard_pydantic_test)"
   ]
  },
  {
   "cell_type": "code",
   "execution_count": 6,
   "metadata": {},
   "outputs": [
    {
     "name": "stdout",
     "output_type": "stream",
     "text": [
      "{'model': 'gpt-4o', 'messages': [{'role': 'system', 'content': [{'type': 'text', 'text': 'You will act as an emulator of impossible-to-code functions. I will provide you with the description of the function using Python\\'s way of declaring functions, but I won\\'t provide the function body as I don\\'t know how to code it. It might even be impossible to code. Therefore, you should not try to write the body. Instead, directly imagine the function output.\\n\\nIn the conversation, I will directly write the function call as if it was called in Python. You should directly answer with whatever you believe would be a good return for the function.\\n\\nWhen you produce an answer, you should estimate the confidence level:\\n\\n    \"low\": You did your best, but with the provided description and your knowledge, you are not confident about the answer.\\n    \"medium-instance\": You did your best, and with the provided description and your knowledge, you are pretty sure this answer is valid but not the only valid answer.\\n    \"medium-unique\": You did your best, and with the provided description and your knowledge, you are pretty sure this answer is the unique and valid answer.\\n    \"high-instance\": You did your best, and you are sure that your provided answer is a valid answer. It is a well-known function or you can easily implement a Python code that yields elements from the list of valid answers. This answer is randomly chosen from the list of valid answers.\\n    \"high-unique\": You did your best, and you are sure that your provided answer is the unique valid answer. It is a well-known function or you can easily implement a Python code that solves the question and calculates this answer given this input.\\n\\nIf the output is documented as a Python structure, you should translate it to JSON.\\nYou should encode the return in valid JSON format, without comments, using the following format:\\n{\"return\":..., \"confidence\":...}\\n\\nThe output must be of the same type as that specified in the function call.\\n\\nAny assumptions made should be reasonable based on the provided function description and should take into account the error handling of the function.\\n\\nConsistency in the confidence levels is important to ensure accurate responses.\\nThis is the function documentation:\\n\\nExample function call:\\n\\ndef example_function(a: int, b: dict) -> int:\\n    \"\"\"\\n    \"\"\"\\n    This is an example function.\\n    It adds two numbers.\\n    \"\"\"\\n    \"\"\"\\n    pass\\n\\nExample imagined function output:\\n\\nresult = example_function(3, {\"value\": 7})\\n\\nExpected JSON output:\\n\\n{\"return\": 10, \"confidence\": \"medium-unique\"}\\n\\nThis is the function documentation:'}]}, {'role': 'user', 'content': [{'type': 'text', 'text': \"Here's the function definition:\\nest un prénom masculin ?\\nAnd this is the function call:\\nEmmanuel\"}]}], 'response_format': {'type': 'json_object'}, 'temperature': 0.7, 'top_p': 0.7}\n",
      "{'return': True, 'confidence': 'high-unique'}\n",
      "\u001b[94m\u001b[1mExecution time of _exec_emulate: 1.25s\u001b[0m\n"
     ]
    },
    {
     "data": {
      "text/plain": [
       "True"
      ]
     },
     "execution_count": 6,
     "metadata": {},
     "output_type": "execute_result"
    }
   ],
   "source": [
    "from OpenHosta import thought\n",
    "\n",
    "thought(\"est un prénom masculin ?\")(\"Emmanuel\")"
   ]
  }
 ],
 "metadata": {
  "kernelspec": {
   "display_name": "Python 3",
   "language": "python",
   "name": "python3"
  },
  "language_info": {
   "codemirror_mode": {
    "name": "ipython",
    "version": 3
   },
   "file_extension": ".py",
   "mimetype": "text/x-python",
   "name": "python",
   "nbconvert_exporter": "python",
   "pygments_lexer": "ipython3",
   "version": "3.12.5"
  }
 },
 "nbformat": 4,
 "nbformat_minor": 2
}
