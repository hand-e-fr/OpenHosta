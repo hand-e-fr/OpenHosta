{
 "cells": [
  {
   "cell_type": "markdown",
   "metadata": {},
   "source": [
    "# Documentation\n",
    "___"
   ]
  },
  {
   "cell_type": "markdown",
   "metadata": {},
   "source": [
    "**You will find above a short desciption with examples to understand how OpenHosta works.Hope you will like it ! :)**"
   ]
  },
  {
   "cell_type": "markdown",
   "metadata": {},
   "source": [
    "**Import the emulator**\n",
    "*(move the example file at `src` if you want to test)*"
   ]
  },
  {
   "cell_type": "code",
   "execution_count": 1,
   "metadata": {},
   "outputs": [],
   "source": [
    "from OpenHosta import emulator\n",
    "\n",
    "llm = emulator()"
   ]
  },
  {
   "cell_type": "markdown",
   "metadata": {},
   "source": [
    "##### Let's create a new function. In fact, you need to place the decorator `llm.emulate` above the function. A decorator is used here to take the function as a parameter.\n",
    "Your function should be prototyped like this:"
   ]
  },
  {
   "cell_type": "code",
   "execution_count": 2,
   "metadata": {},
   "outputs": [],
   "source": [
    "@llm.emulate\n",
    "def AI_find_occurence_of_a_word(word :str, text: str) -> int:\n",
    "    \"\"\"\n",
    "    This function takes a word and a text and returns\n",
    "    the number of times the word appears in the text.\n",
    "    \"\"\"\n",
    "    pass"
   ]
  },
  {
   "cell_type": "code",
   "execution_count": 3,
   "metadata": {},
   "outputs": [
    {
     "data": {
      "text/plain": [
       "2"
      ]
     },
     "execution_count": 3,
     "metadata": {},
     "output_type": "execute_result"
    }
   ],
   "source": [
    "AI_find_occurence_of_a_word(\"hello\", \"hello world hello\") # 2"
   ]
  },
  {
   "cell_type": "markdown",
   "metadata": {},
   "source": [
    "___\n",
    "\n",
    "##### If you want to improve your prompt, see what's the AI understand and see a vizualizer of the reasonning please use the decorator `llm.enhance`\n",
    "Your function should be prototiped like this : "
   ]
  },
  {
   "cell_type": "code",
   "execution_count": 10,
   "metadata": {},
   "outputs": [],
   "source": [
    "@llm.enhance\n",
    "def AI_find_occurence_of_a_word_enhance(word :str, text: str) -> int:\n",
    "    \"\"\"\n",
    "    This function takes a word and a text and returns\n",
    "    the number of times the word appears in the text.\n",
    "    \"\"\"\n",
    "    pass"
   ]
  },
  {
   "cell_type": "code",
   "execution_count": null,
   "metadata": {},
   "outputs": [],
   "source": [
    "AI_find_occurence_of_a_word_enhance(\"hello\", \"hello world hello\") # 2"
   ]
  },
  {
   "cell_type": "markdown",
   "metadata": {},
   "source": [
    "A directory `.openhosta` will appears and he will contain :"
   ]
  },
  {
   "cell_type": "markdown",
   "metadata": {},
   "source": [
    "**A mermaid vizualizer**\n",
    "```mermaid\n",
    "graph LR\n",
    "    A[Start] --> B[Receive inputs: word and text]\n",
    "    B --> C{Are inputs valid?}\n",
    "    C -- No --> D[Return error]\n",
    "    C -- Yes --> E[Convert both inputs to lowercase]\n",
    "    E --> F[Remove punctuation from text]\n",
    "    F --> G[Split text into words]\n",
    "    G --> H[Count exact matches of the word]\n",
    "    H --> I[Return the count]\n",
    "    I --> J[End]\n",
    "```"
   ]
  },
  {
   "cell_type": "markdown",
   "metadata": {},
   "source": [
    "**A understanding of the input prompt and an possible update version for more precision(*that you need to change manually if you agree this*)**\n",
    "___\n",
    "- **Enhanced prompt:**\n",
    "This function takes two inputs: a word (string) and a text (string). It returns an integer representing the number of times the specified word appears in the given text. The function should be case-insensitive, meaning it should count occurrences of the word regardless of whether it is in uppercase or lowercase. Additionally, the function should handle punctuation properly, ensuring that words followed by punctuation marks are still counted correctly. The function should also include error handling to manage cases where the inputs are not strings or are empty.\n",
    "- **How to improve your prompt:**\n",
    "The prompt is clear but lacks specificity in handling edge cases and punctuation. It also doesn't specify how to handle different forms of the word, such as plural or possessive forms. Furthermore, it doesn't mention whether the function should count overlapping occurrences of the word. The prompt could benefit from more detailed requirements to ensure robustness and accuracy.\n",
    "- **Improvemed prompt suggestion:**\n",
    "This function takes two inputs: a word (string) and a text (string). It returns an integer representing the number of times the specified word appears in the given text. The function should be case-insensitive, meaning it should count occurrences of the word regardless of whether it is in uppercase or lowercase. It should handle punctuation properly, ensuring that words followed by punctuation marks are still counted correctly. The function should not count overlapping occurrences of the word. Additionally, the function should include error handling to manage cases where the inputs are not strings or are empty. It should also handle different forms of the word, such as plural or possessive forms, by considering only exact matches of the word.`\n",
    "___"
   ]
  },
  {
   "cell_type": "markdown",
   "metadata": {},
   "source": [
    "##### To receive information of the sequences you need to use the `llm.oracle` decorator (return a json file)\n",
    "function should be prototyped like this"
   ]
  },
  {
   "cell_type": "code",
   "execution_count": 7,
   "metadata": {},
   "outputs": [],
   "source": [
    "@llm.oracle\n",
    "def analyse_data(word :str, text: str) -> int:\n",
    "    result_1 = AI_find_occurence_of_a_word(word, text)\n",
    "    result_2 = text.count(word)\n",
    "    dataset = [result_1, result_2]\n",
    "    if result_1 == result_2:\n",
    "        return dataset, 0 # Return 0 or True if the results are the same\n",
    "    else:\n",
    "        return dataset, 1 # Return 1 or False if the results are different"
   ]
  },
  {
   "cell_type": "code",
   "execution_count": 8,
   "metadata": {},
   "outputs": [
    {
     "data": {
      "text/plain": [
       "'{\\n     \"Version\": 1.0,\\n     \"Id session\": \"fc4e1b32-b5ef-413f-9812-a3387754e844\",\\n     \"Timestamp\": 1720448026,\\n     \"func_call\": \"analyse_data(hello, hello world hello)\",\\n     \"func_hash\": \"7d6c10838b87595afcfc62402068aac5\",\\n     \"Tag output\": 0,\\n     \"Data\": [\\n          2,\\n          2\\n     ]\\n}'"
      ]
     },
     "execution_count": 8,
     "metadata": {},
     "output_type": "execute_result"
    }
   ],
   "source": [
    "analyse_data(\"hello\", \"hello world hello\") # ([2, 2], 0)"
   ]
  },
  {
   "cell_type": "markdown",
   "metadata": {},
   "source": [
    "**The Json looks like this**\n",
    "\n",
    "```json\n",
    "{\"Version\": 1.0,\n",
    "\"Id session\": \"fc4e1b32-b5ef-413f-9812-a3387754e844\",\n",
    "\"Timestamp\": 1720448026,\n",
    "\"func_call\": \"analyse_data(hello, hello world hello)\",\n",
    "\"func_hash\": \"7d6c10838b87595afcfc62402068aac5\",\n",
    "\"Tag output\": 0,\n",
    "\"Data\": [\n",
    "     2,\n",
    "     2\n",
    "     ]\n",
    "}\n",
    "```"
   ]
  }
 ],
 "metadata": {
  "kernelspec": {
   "display_name": "Python 3",
   "language": "python",
   "name": "python3"
  },
  "language_info": {
   "codemirror_mode": {
    "name": "ipython",
    "version": 3
   },
   "file_extension": ".py",
   "mimetype": "text/x-python",
   "name": "python",
   "nbconvert_exporter": "python",
   "pygments_lexer": "ipython3",
   "version": "3.12.3"
  }
 },
 "nbformat": 4,
 "nbformat_minor": 2
}
