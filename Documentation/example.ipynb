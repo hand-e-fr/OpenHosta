{
 "cells": [
  {
   "cell_type": "code",
   "execution_count": 7,
   "metadata": {},
   "outputs": [],
   "source": [
    "from OpenHosta import emulator\n",
    "\n",
    "llm = emulator()"
   ]
  },
  {
   "cell_type": "code",
   "execution_count": 8,
   "metadata": {},
   "outputs": [
    {
     "data": {
      "text/plain": [
       "2"
      ]
     },
     "execution_count": 8,
     "metadata": {},
     "output_type": "execute_result"
    }
   ],
   "source": [
    "@llm.emulate\n",
    "def AI_find_occurence_of_a_word(word :str, text: str) -> int:\n",
    "    \"\"\"\n",
    "    This function takes a word and a text and returns\n",
    "    the number of times the word appears in the text.\n",
    "    \"\"\"\n",
    "    pass\n",
    "\n",
    "AI_find_occurence_of_a_word(\"hello\", \"hello world hello\") # 2"
   ]
  },
  {
   "cell_type": "code",
   "execution_count": 9,
   "metadata": {},
   "outputs": [
    {
     "name": "stdout",
     "output_type": "stream",
     "text": [
      "PATH: c:\\Users\\Merlin\\Desktop\\STAGE\\hosta-dev\\Documentation/.openhosta\n"
     ]
    },
    {
     "data": {
      "text/plain": [
       "<function __main__.AI_find_occurence_of_a_word_enhance(word: str, text: str) -> int>"
      ]
     },
     "execution_count": 9,
     "metadata": {},
     "output_type": "execute_result"
    }
   ],
   "source": [
    "@llm.enhance\n",
    "def AI_find_occurence_of_a_word_enhance(word :str, text: str) -> int:\n",
    "    \"\"\"\n",
    "    This function takes a word and a text and returns\n",
    "    the number of times the word appears in the text.\n",
    "    \"\"\"\n",
    "    pass\n",
    "\n",
    "AI_find_occurence_of_a_word_enhance(\"hello\", \"hello world hello\")"
   ]
  }
 ],
 "metadata": {
  "kernelspec": {
   "display_name": "Python 3",
   "language": "python",
   "name": "python3"
  },
  "language_info": {
   "codemirror_mode": {
    "name": "ipython",
    "version": 3
   },
   "file_extension": ".py",
   "mimetype": "text/x-python",
   "name": "python",
   "nbconvert_exporter": "python",
   "pygments_lexer": "ipython3",
   "version": "3.11.8"
  }
 },
 "nbformat": 4,
 "nbformat_minor": 2
}
