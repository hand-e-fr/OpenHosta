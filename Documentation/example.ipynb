{
 "cells": [
  {
   "cell_type": "code",
   "execution_count": 1,
   "metadata": {},
   "outputs": [],
   "source": [
    "from OpenHosta import emulator\n",
    "\n",
    "llm = emulator()"
   ]
  },
  {
   "cell_type": "code",
   "execution_count": 2,
   "metadata": {},
   "outputs": [],
   "source": [
    "@llm.emulate\n",
    "def AI_find_occurence_of_a_word(word :str, text: str) -> int:\n",
    "    \"\"\"\n",
    "    This function takes a word and a text and returns\n",
    "    the number of times the word appears in the text.\n",
    "    \"\"\"\n",
    "    pass\n",
    "\n",
    "AI_find_occurence_of_a_word(\"hello\", \"hello world hello\") # 2"
   ]
  },
  {
   "cell_type": "code",
   "execution_count": 10,
   "metadata": {},
   "outputs": [],
   "source": [
    "@llm.enhance\n",
    "def AI_find_occurence_of_a_word_enhance(word :str, text: str) -> int:\n",
    "    \"\"\"\n",
    "    This function takes a word and a text and returns\n",
    "    the number of times the word appears in the text.\n",
    "    \"\"\"\n",
    "    pass\n",
    "\n",
    "AI_find_occurence_of_a_word_enhance(\"hello\", \"hello world hello\")"
   ]
  },
  {
   "cell_type": "code",
   "execution_count": 7,
   "metadata": {},
   "outputs": [],
   "source": [
    "@llm.oracle\n",
    "def analyse_data(word :str, text: str) -> int:\n",
    "    result_1 = AI_find_occurence_of_a_word(word, text)\n",
    "    result_2 = text.count(word)\n",
    "    dataset = [result_1, result_2]\n",
    "    if result_1 == result_2:\n",
    "        return dataset, 0 # Return 0 or True if the results are the same\n",
    "    else:\n",
    "        return dataset, 1 # Return 1 or False if the results are different\n",
    "    \n",
    "analyse_data(\"hello\", \"hello world hello\")"
   ]
  }
 ],
 "metadata": {
  "kernelspec": {
   "display_name": "Python 3",
   "language": "python",
   "name": "python3"
  },
  "language_info": {
   "codemirror_mode": {
    "name": "ipython",
    "version": 3
   },
   "file_extension": ".py",
   "mimetype": "text/x-python",
   "name": "python",
   "nbconvert_exporter": "python",
   "pygments_lexer": "ipython3",
   "version": "3.12.3"
  }
 },
 "nbformat": 4,
 "nbformat_minor": 2
}
