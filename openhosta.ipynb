{
  "nbformat": 4,
  "nbformat_minor": 0,
  "metadata": {
    "colab": {
      "provenance": [],
      "include_colab_link": true
    },
    "kernelspec": {
      "name": "python3",
      "display_name": "Python 3"
    },
    "language_info": {
      "name": "python"
    }
  },
  "cells": [
    {
      "cell_type": "markdown",
      "metadata": {
        "id": "view-in-github",
        "colab_type": "text"
      },
      "source": [
        "<a href=\"https://colab.research.google.com/github/hand-e-fr/OpenHosta/blob/doc/openhosta.ipynb\" target=\"_parent\"><img src=\"https://colab.research.google.com/assets/colab-badge.svg\" alt=\"Open In Colab\"/></a>"
      ]
    },
    {
      "cell_type": "code",
      "execution_count": null,
      "metadata": {
        "id": "onr1w8jbEcby"
      },
      "outputs": [],
      "source": [
        "!pip install OpenHosta"
      ]
    },
    {
      "cell_type": "code",
      "source": [
        "from OpenHosta import emulate, config, example, thought, Model, save_examples, load_examples\n",
        "\n",
        "l_api_key = \"put-your-api-key-here\"\n",
        "\n",
        "config.set_default_apiKey(l_api_key)\n"
      ],
      "metadata": {
        "id": "SEpo1gfJT8Bg"
      },
      "execution_count": null,
      "outputs": []
    },
    {
      "cell_type": "code",
      "source": [
        "def translate(text:str, language:str)->str:\n",
        "    \"\"\"\n",
        "    This function translates the text in the “text” parameter into the language specified in the “language” parameter.\n",
        "    \"\"\"\n",
        "    return emulate()\n",
        "\n",
        "result = translate(\"Hello World!\", \"French\")\n",
        "print(result)"
      ],
      "metadata": {
        "id": "gE1ecyDzUVFE"
      },
      "execution_count": null,
      "outputs": []
    },
    {
      "cell_type": "code",
      "source": [
        "my_model = config.Model(\n",
        "    model=\"gpt-4o-mini\",\n",
        "    base_url=\"https://api.openai.com/v1/chat/completions\",\n",
        "    api_key=l_api_key\n",
        ")"
      ],
      "metadata": {
        "id": "avGsfrxQUsCb"
      },
      "execution_count": null,
      "outputs": []
    },
    {
      "cell_type": "code",
      "source": [
        "def find_name_age(sentence:str, id:dict)->dict:\n",
        "    \"\"\"\n",
        "    This function find in a text the name and the age of a personn.\n",
        "\n",
        "    Args:\n",
        "        sentence: The text in which to search for information\n",
        "        id: The dictionary to fill in with information\n",
        "\n",
        "    Return:\n",
        "        A dictionary identical to the one passed in parameter, but filled with the information.\n",
        "        If the information is not found, fill with the values with “None”.\n",
        "    \"\"\"\n",
        "    return emulate(model=my_model)\n",
        "\n",
        "return_dict = {\"name\": \"\", \"age\": \"\"}\n",
        "result = find_name_age(\"Hello, I'm John Wick, i'm 30 and I live in New York\", return_dict)\n",
        "print(result)"
      ],
      "metadata": {
        "id": "I_AJQzoKU192"
      },
      "execution_count": null,
      "outputs": []
    },
    {
      "cell_type": "code",
      "source": [
        "my_model_2 = config.Model(\n",
        "    model=\"gpt-4o\",\n",
        "    base_url=\"https://api.openai.com/v1/chat/completions\",\n",
        "    api_key=l_api_key\n",
        ")\n",
        "\n",
        "config.set_default_model(my_model_2)"
      ],
      "metadata": {
        "id": "K76jOTu5V6HW"
      },
      "execution_count": null,
      "outputs": []
    },
    {
      "cell_type": "code",
      "source": [
        "from typing import Dict, Tuple, List\n",
        "\n",
        "def analyze_text(text: str) -> Dict[str, List[Tuple[int, str]]]:\n",
        "    \"\"\"Analyze text to map each word to a list of tuples containing word length and word.\"\"\"\n",
        "    return emulate()\n",
        "\n",
        "# Example usage\n",
        "analysis = analyze_text(\"Hello, World!\")\n",
        "\n",
        "print(analysis)\n",
        "print(type(analysis))"
      ],
      "metadata": {
        "id": "GXiKTdYm_GGp"
      },
      "execution_count": null,
      "outputs": []
    },
    {
      "cell_type": "code",
      "source": [
        "from pydantic import BaseModel\n",
        "\n",
        "class Personn(BaseModel):\n",
        "    name: str\n",
        "    age: int\n",
        "\n",
        "def find_name_age_pydantic(sentence:str)->Personn:\n",
        "    \"\"\"\n",
        "    This function find in a text the name and the age of a personn.\n",
        "\n",
        "    Args:\n",
        "        sentence: The text in which to search for information\n",
        "\n",
        "    Return:\n",
        "        A Pydantic model, but filled with the information.\n",
        "        If the information is not found, fill with the values with “None”.\n",
        "    \"\"\"\n",
        "    return emulate()\n",
        "\n",
        "result = find_name_age_pydantic(\"Luke Skywalker is very surprising: he's only 22 when he becomes a Jedi.\")\n",
        "print(result)"
      ],
      "metadata": {
        "id": "wnn5ed4QWXYs"
      },
      "execution_count": null,
      "outputs": []
    },
    {
      "cell_type": "code",
      "source": [
        "def find_occurence_of_a_word(word :str, text: str) -> int:\n",
        "    \"\"\"\n",
        "    This function takes a word and a text and returns\n",
        "    the number of times the word appears in the text.\n",
        "    \"\"\"\n",
        "    return emulate()\n",
        "\n",
        "find_occurence_of_a_word(\"Hello\", \"Hello World Hello!\")\n",
        "\n",
        "find_occurence_of_a_word.__suggest__(find_occurence_of_a_word)\n",
        "print(find_occurence_of_a_word.advanced)"
      ],
      "metadata": {
        "id": "E5eTPiUyXjXR"
      },
      "execution_count": null,
      "outputs": []
    },
    {
      "cell_type": "code",
      "source": [
        "x = thought(\"Is it a masculine name\")\n",
        "print(x(\"Max\"))\n",
        "print(x._return_type)\n",
        "\n",
        "result = thought(\"Multiply by two\")(2)\n",
        "print(result)"
      ],
      "metadata": {
        "id": "2HGl7uTPXwaD"
      },
      "execution_count": null,
      "outputs": []
    },
    {
      "cell_type": "code",
      "source": [
        "def translate(text:str, language:str)->str:\n",
        "    \"\"\"\n",
        "    This function translates the text in the “text” parameter into the language specified in the “language” parameter.\n",
        "    \"\"\"\n",
        "    example(\"Bonjour Monde !\", \"portuguese\", hosta_out=\"ola mundo\" )\n",
        "    return emulate()\n",
        "\n",
        "\n",
        "example(text=\"Hello World !\", language=\"japanese\", hosta_out=\"こんにちは世界!\", hosta_func=translate)\n",
        "\n",
        "print(translate(\"Hello World !\", \"French\"))"
      ],
      "metadata": {
        "id": "21fauAHdgfOR"
      },
      "execution_count": null,
      "outputs": []
    },
    {
      "cell_type": "code",
      "source": [
        "save_examples(hosta_func=translate, hosta_path=\"translate_func_example\")\n",
        "\n",
        "#######\n",
        "\n",
        "def another_translate(text:str, language:str)->str:\n",
        "    \"\"\"\n",
        "    This function translates the text in the “text” parameter into the language specified in the “language” parameter.\n",
        "    \"\"\"\n",
        "    return emulate()\n",
        "\n",
        "load_examples(hosta_path=\"translate_func_example.jsonl\", hosta_func=another_translate)\n",
        "# add the jsonl at the end of the path !"
      ],
      "metadata": {
        "id": "ef8aGDcGgstQ"
      },
      "execution_count": null,
      "outputs": []
    }
  ]
}